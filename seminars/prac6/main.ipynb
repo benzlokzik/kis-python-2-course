{
 "cells": [
  {
   "cell_type": "markdown",
   "id": "f65548380f0e9df2",
   "metadata": {
    "collapsed": false
   },
   "source": [
    "# Вводные задачи"
   ]
  },
  {
   "cell_type": "markdown",
   "id": "dbad189b133a5e95",
   "metadata": {
    "collapsed": false
   },
   "source": [
    "**1.1.** (уровень сложности: низкий)\n",
    "\n",
    "Напишите функцию `deriv` для приближенного вычисления производной в заданной точке.\n",
    "\n",
    "Пример работы:\n",
    "\n",
    "```python\n",
    "deriv(lambda x: x ** 3)(5)\n",
    "75.00014999664018\n",
    "```"
   ]
  },
  {
   "cell_type": "code",
   "execution_count": 1,
   "id": "1e839838f27d23a4",
   "metadata": {
    "ExecuteTime": {
     "end_time": "2024-05-24T19:37:12.727802Z",
     "start_time": "2024-05-24T19:37:12.722115Z"
    },
    "collapsed": false
   },
   "outputs": [
    {
     "name": "stdout",
     "output_type": "stream",
     "text": [
      "75.0000000167006\n"
     ]
    }
   ],
   "source": [
    "def deriv(f, h=1e-6):\n",
    "    def derivative_at_point(x):\n",
    "        return (f(x + h) - f(x - h)) / (2 * h)\n",
    "\n",
    "    return derivative_at_point\n",
    "\n",
    "\n",
    "print(deriv(lambda x: x**3)(5))"
   ]
  },
  {
   "cell_type": "markdown",
   "id": "7ef7948a8e256799",
   "metadata": {
    "collapsed": false
   },
   "source": [
    "**1.2.** (уровень сложности: средний)\n",
    "\n",
    "Создайте вариант именованного кортежа с помощью ФВП. Классы и готовые структуры данных (словари, кортежи и так далее) использовать нельзя.\n",
    "\n",
    "Примеры работы:\n",
    "\n",
    "```python\n",
    "p1 = person(name='Иван', age=20)\n",
    "p2 = replace(replace(p1, 'name', 'Алексей'), 'age', 21)\n",
    "get(p1, 'name'), get(p1, 'age')\n",
    "# ('Иван', 20)\n",
    "get(p2, 'name'), get(p2, 'age')\n",
    "# ('Алексей', 21)\n",
    "```"
   ]
  },
  {
   "cell_type": "code",
   "execution_count": null,
   "id": "5b0ff37312899898",
   "metadata": {
    "collapsed": false
   },
   "outputs": [],
   "source": [
    "def person(**attributes):\n",
    "    def access(field):\n",
    "        return attributes.get(field, None)\n",
    "\n",
    "    return access\n",
    "\n",
    "\n",
    "def replace(p, field, value):\n",
    "    def new_access(f):\n",
    "        if f == field:\n",
    "            return value\n",
    "        return p(f)\n",
    "\n",
    "    return new_access\n",
    "\n",
    "\n",
    "def get(p, field):\n",
    "    return p(field)"
   ]
  },
  {
   "cell_type": "code",
   "outputs": [
    {
     "name": "stdout",
     "output_type": "stream",
     "text": [
      "Иван 20\n",
      "Алексей 21\n"
     ]
    }
   ],
   "source": [
    "# Примеры работы\n",
    "p1 = person(name=\"Иван\", age=20)\n",
    "p2 = replace(replace(p1, \"name\", \"Алексей\"), \"age\", 21)\n",
    "\n",
    "print(get(p1, \"name\"), get(p1, \"age\"))  # ('Иван', 20)\n",
    "print(get(p2, \"name\"), get(p2, \"age\"))  # ('Алексей', 21)"
   ],
   "metadata": {
    "collapsed": false
   },
   "id": "33975b4b9c537569",
   "execution_count": 2
  },
  {
   "cell_type": "markdown",
   "source": [
    "**1.3.** (уровень сложности: низкий)\n",
    "\n",
    "Реализуйте рекурсивное вычисление факториала в виде выражения. Необходимо это сделать без использования именованных функций, переменных (в том числе без имени факториала) и присваиваний."
   ],
   "metadata": {
    "collapsed": false
   },
   "id": "b17c28b76ee63449"
  },
  {
   "cell_type": "code",
   "outputs": [
    {
     "data": {
      "text/plain": "120"
     },
     "execution_count": 9,
     "metadata": {},
     "output_type": "execute_result"
    }
   ],
   "source": [
    "(lambda f: (lambda x: x(x))(lambda x: f(lambda v: x(x)(v))))(\n",
    "    (lambda f: lambda n: 1 if n == 0 else n * f(n - 1))\n",
    ")(5)\n",
    "\n",
    "# лисп какой-то получился хз"
   ],
   "metadata": {
    "collapsed": false,
    "ExecuteTime": {
     "end_time": "2024-05-24T19:44:37.333605Z",
     "start_time": "2024-05-24T19:44:37.325438Z"
    }
   },
   "id": "8f364bfea74ed159",
   "execution_count": 9
  },
  {
   "cell_type": "code",
   "outputs": [
    {
     "data": {
      "text/plain": "3628800"
     },
     "execution_count": 10,
     "metadata": {},
     "output_type": "execute_result"
    }
   ],
   "source": [
    "(lambda f: (lambda x: x(x))(lambda x: f(lambda v: x(x)(v))))(\n",
    "    (lambda f: lambda n: 1 if n == 0 else n * f(n - 1))\n",
    ")(10)"
   ],
   "metadata": {
    "collapsed": false,
    "ExecuteTime": {
     "end_time": "2024-05-24T19:44:49.684117Z",
     "start_time": "2024-05-24T19:44:49.681015Z"
    }
   },
   "id": "bea8474f16670a53",
   "execution_count": 10
  },
  {
   "cell_type": "markdown",
   "source": [
    "**1.4.** (уровень сложности: низкий)\n",
    "\n",
    "Создайте декоратор io, который задает функции для получения входных аргументов и вовращения результата.\n",
    "\n",
    "Примеры:\n",
    "\n",
    "```Python\n",
    "@io(input, input, input, print)\n",
    "def f1(x, y, z):\n",
    "    return x + y + z\n",
    "\n",
    "f1()\n",
    "one\n",
    "two\n",
    "three\n",
    "onetwothree\n",
    "```\n",
    "\n",
    "```Python\n",
    "@io(lambda: random.random(), lambda: random.random(), lambda x: x)\n",
    "def f2(x, y):\n",
    "    return x * y\n",
    "\n",
    "f2()\n",
    "0.19896827110422532"
   ],
   "metadata": {
    "collapsed": false
   },
   "id": "494a144767212f64"
  },
  {
   "cell_type": "code",
   "outputs": [],
   "source": [
    "def io(*funcs):\n",
    "    def decorator(func):\n",
    "        def wrapper():\n",
    "            args = [f() for f in funcs[:-1]]\n",
    "            result = func(*args)\n",
    "            funcs[-1](result)\n",
    "            return result\n",
    "\n",
    "        return wrapper\n",
    "\n",
    "    return decorator"
   ],
   "metadata": {
    "collapsed": false
   },
   "id": "1dda5c36250d18bd",
   "execution_count": null
  },
  {
   "cell_type": "code",
   "outputs": [
    {
     "name": "stdout",
     "output_type": "stream",
     "text": [
      "onetwothree\n"
     ]
    },
    {
     "data": {
      "text/plain": "'onetwothree'"
     },
     "execution_count": 14,
     "metadata": {},
     "output_type": "execute_result"
    }
   ],
   "source": [
    "# Пример использования:\n",
    "@io(lambda: input(), lambda: input(), lambda: input(), print)\n",
    "def f1(x, y, z):\n",
    "    return x + y + z\n",
    "\n",
    "\n",
    "# Вызов функции f1\n",
    "f1()"
   ],
   "metadata": {
    "collapsed": false,
    "ExecuteTime": {
     "end_time": "2024-05-24T19:47:39.025775Z",
     "start_time": "2024-05-24T19:47:20.352337Z"
    }
   },
   "id": "689e04907c0396f3",
   "execution_count": 14
  },
  {
   "cell_type": "code",
   "outputs": [
    {
     "data": {
      "text/plain": "0.06477916644564682"
     },
     "execution_count": 16,
     "metadata": {},
     "output_type": "execute_result"
    }
   ],
   "source": [
    "import random\n",
    "\n",
    "\n",
    "@io(lambda: random.random(), lambda: random.random(), lambda x: x)\n",
    "def f2(x, y):\n",
    "    return x * y\n",
    "\n",
    "\n",
    "f2()"
   ],
   "metadata": {
    "collapsed": false,
    "ExecuteTime": {
     "end_time": "2024-05-24T19:48:35.176942Z",
     "start_time": "2024-05-24T19:48:35.173875Z"
    }
   },
   "id": "e676155d7857db99",
   "execution_count": 16
  },
  {
   "cell_type": "markdown",
   "source": [
    "**1.5.** (уровень сложности: низкий)\n",
    "\n",
    "Создайте декоратор класса @collect, который собирает все создаваемые объекты класса в единый список. К классу добавляется метод get_objects, который выдает этот список.\n",
    "\n",
    "Пример:\n",
    "\n",
    "```python\n",
    "@collect\n",
    "class C1:\n",
    "    pass\n",
    "\n",
    "a = C1()\n",
    "b = C1()\n",
    "c = C1()\n",
    "\n",
    "C1.get_objects()\n",
    "[<__main__.MyClass object at 0x00000259EDC10750>, <__main__.MyClass object at 0x00000259EDC968D0>, <__main__.MyClass object at 0x00000259EDC96910>]\n",
    "```"
   ],
   "metadata": {
    "collapsed": false
   },
   "id": "a32bc08403bd3c94"
  },
  {
   "cell_type": "code",
   "outputs": [],
   "source": [
    "def collect(cls):\n",
    "    # список для хранения объектов\n",
    "    cls._objects = []\n",
    "\n",
    "    # копируем ориг конструктор\n",
    "    original_init = cls.__init__\n",
    "\n",
    "    # опред нового конструктора\n",
    "    def new_init(self, *args, **kwargs):\n",
    "        original_init(self, *args, **kwargs)  # вызов оригинального конструктора\n",
    "        cls._objects.append(self)  # добавление созданный объект в список\n",
    "\n",
    "    # редефайн конструктора\n",
    "    cls.__init__ = new_init\n",
    "\n",
    "    # Добавляем метод get_objects\n",
    "    @classmethod\n",
    "    def get_objects(cls):\n",
    "        return cls._objects\n",
    "\n",
    "    cls.get_objects = get_objects\n",
    "\n",
    "    return cls"
   ],
   "metadata": {
    "collapsed": false,
    "ExecuteTime": {
     "end_time": "2024-05-24T19:55:11.002767Z",
     "start_time": "2024-05-24T19:55:10.997786Z"
    }
   },
   "id": "db5bf6d3aac78b90",
   "execution_count": 18
  },
  {
   "cell_type": "code",
   "outputs": [
    {
     "name": "stdout",
     "output_type": "stream",
     "text": [
      "[<__main__.C1 object at 0x119c00170>, <__main__.C1 object at 0x119c001a0>, <__main__.C1 object at 0x119c002c0>]\n"
     ]
    }
   ],
   "source": [
    "@collect\n",
    "class C1:\n",
    "    def __init__(self):\n",
    "        pass\n",
    "\n",
    "\n",
    "a = C1()\n",
    "b = C1()\n",
    "c = C1()\n",
    "\n",
    "print(C1.get_objects())"
   ],
   "metadata": {
    "collapsed": false,
    "ExecuteTime": {
     "end_time": "2024-05-24T19:55:11.651699Z",
     "start_time": "2024-05-24T19:55:11.648341Z"
    }
   },
   "id": "2aa8295b3c4d9d29",
   "execution_count": 19
  },
  {
   "cell_type": "markdown",
   "source": [
    "## 2. Работа со списками в функциональном стиле\n",
    "\n",
    "Создайте тип данных односвязный список с помощью ФВП. При создании списка нельзя использовать классы, готовые списки, кортежи и так далее.\n",
    "\n",
    "Добавьте ряд операций в функциональном стиле."
   ],
   "metadata": {
    "collapsed": false
   },
   "id": "3b7d9cd594efcef9"
  },
  {
   "cell_type": "code",
   "outputs": [],
   "source": [
    "# создаем пустой список\n",
    "def empty_list():\n",
    "    return None\n",
    "\n",
    "\n",
    "# проверка, пустой ли список\n",
    "def is_empty(lst):\n",
    "    return lst is None\n",
    "\n",
    "\n",
    "# создание нового узла (элемента списка)\n",
    "def cons(head, tail):\n",
    "    return lambda f: f(head, tail)\n",
    "\n",
    "\n",
    "# получение головы списка (первого элемента)\n",
    "def head(lst):\n",
    "    if is_empty(lst):\n",
    "        raise ValueError(\"список пуст\")\n",
    "    return lst(lambda head, tail: head)\n",
    "\n",
    "\n",
    "# получение хвоста списка (все элементы кроме первого)\n",
    "def tail(lst):\n",
    "    if is_empty(lst):\n",
    "        raise ValueError(\"список пуст\")\n",
    "    return lst(lambda head, tail: tail)\n",
    "\n",
    "\n",
    "# преобразование списка в строку для удобного вывода\n",
    "def to_string(lst):\n",
    "    def helper(lst, acc):\n",
    "        if is_empty(lst):\n",
    "            return acc\n",
    "        else:\n",
    "            return helper(tail(lst), acc + [head(lst)])\n",
    "\n",
    "    return \" -> \".join(map(str, helper(lst, [])))"
   ],
   "metadata": {
    "collapsed": false,
    "ExecuteTime": {
     "end_time": "2024-05-24T19:58:19.512008Z",
     "start_time": "2024-05-24T19:58:19.504295Z"
    }
   },
   "id": "7ba043b519f32781",
   "execution_count": 22
  },
  {
   "cell_type": "code",
   "outputs": [
    {
     "name": "stdout",
     "output_type": "stream",
     "text": [
      "Список: 1 -> 2 -> 3\n",
      "Первый элемент: 1\n",
      "Хвост: 2 -> 3\n"
     ]
    }
   ],
   "source": [
    "# Пример использования\n",
    "lst = empty_list()\n",
    "lst = cons(3, lst)\n",
    "lst = cons(2, lst)\n",
    "lst = cons(1, lst)\n",
    "\n",
    "print(\"Список:\", to_string(lst))  # Вывод: 1 -> 2 -> 3\n",
    "print(\"Первый элемент:\", head(lst))  # Вывод: 1\n",
    "print(\"Хвост:\", to_string(tail(lst)))  # Вывод: 2 -> 3"
   ],
   "metadata": {
    "collapsed": false,
    "ExecuteTime": {
     "end_time": "2024-05-24T19:58:20.083612Z",
     "start_time": "2024-05-24T19:58:20.080558Z"
    }
   },
   "id": "76190b41c7d059fc",
   "execution_count": 23
  },
  {
   "cell_type": "markdown",
   "source": [
    "**2.1.** (уровень сложности: высокий)\n",
    "\n",
    "Создайте функцию pair(head, tail), которая порождает элемент списка. Не используйте ветвления. Создайте также функции head(lst) (возвращает значение головы списка) и tail(lst) (возвращает хвост списка)."
   ],
   "metadata": {
    "collapsed": false
   },
   "id": "622d5835c342a479"
  },
  {
   "cell_type": "code",
   "outputs": [],
   "source": [
    "pair = cons"
   ],
   "metadata": {
    "collapsed": false,
    "ExecuteTime": {
     "end_time": "2024-05-24T20:01:59.369487Z",
     "start_time": "2024-05-24T20:01:59.364995Z"
    }
   },
   "id": "4217c0ddf6f1a550",
   "execution_count": 24
  },
  {
   "cell_type": "code",
   "outputs": [
    {
     "name": "stdout",
     "output_type": "stream",
     "text": [
      "Голова: 1\n",
      "Голова хвоста: 2\n"
     ]
    }
   ],
   "source": [
    "lst = pair(1, pair(2, pair(3, None)))\n",
    "\n",
    "print(\"Голова:\", head(lst))\n",
    "\n",
    "print(\"Голова хвоста:\", head(tail(lst)))"
   ],
   "metadata": {
    "collapsed": false,
    "ExecuteTime": {
     "end_time": "2024-05-24T20:02:23.310297Z",
     "start_time": "2024-05-24T20:02:23.305039Z"
    }
   },
   "id": "602768d39ea4f942",
   "execution_count": 25
  },
  {
   "cell_type": "markdown",
   "source": [
    "**2.2.** (уровень сложности: средний)\n",
    "\n",
    "Создайте функцию make_list(`*args`), которая создает список на основе аргументов."
   ],
   "metadata": {
    "collapsed": false
   },
   "id": "f327e78d8e9c6846"
  },
  {
   "cell_type": "code",
   "outputs": [
    {
     "name": "stdout",
     "output_type": "stream",
     "text": [
      "Голова: 1\n",
      "Голова хвоста: 2\n",
      "Список: 1 -> 2 -> 3\n"
     ]
    }
   ],
   "source": [
    "def make_list(*args):\n",
    "    lst = None\n",
    "    for element in reversed(args):\n",
    "        lst = pair(element, lst)\n",
    "    return lst\n",
    "\n",
    "\n",
    "lst = make_list(1, 2, 3)\n",
    "\n",
    "print(\"Голова:\", head(lst))\n",
    "print(\"Голова хвоста:\", head(tail(lst)))\n",
    "print(\"Список:\", to_string(lst))"
   ],
   "metadata": {
    "collapsed": false,
    "ExecuteTime": {
     "end_time": "2024-05-24T20:04:12.217958Z",
     "start_time": "2024-05-24T20:04:12.204516Z"
    }
   },
   "id": "516ec00fe38709e",
   "execution_count": 27
  },
  {
   "cell_type": "markdown",
   "source": [
    "**2.3.** (уровень сложности: средний)\n",
    "\n",
    "Создайте функцию list_to_string(lst), возвращающую строку, содержащую элементы списка."
   ],
   "metadata": {
    "collapsed": false
   },
   "id": "9d265d282f431129"
  },
  {
   "cell_type": "code",
   "outputs": [
    {
     "name": "stdout",
     "output_type": "stream",
     "text": [
      "Список: 1 -> 2 -> 3\n"
     ]
    }
   ],
   "source": [
    "list_to_string = to_string\n",
    "print(\"Список:\", list_to_string(lst))"
   ],
   "metadata": {
    "collapsed": false,
    "ExecuteTime": {
     "end_time": "2024-05-24T20:05:08.341595Z",
     "start_time": "2024-05-24T20:05:08.336684Z"
    }
   },
   "id": "7c6bebc8eb6ab667",
   "execution_count": 28
  },
  {
   "cell_type": "markdown",
   "source": [
    "**2.4.** (уровень сложности: средний)\n",
    "\n",
    "Создайте функцию list_range(low, high), возвращающую список чисел от low до high включительно."
   ],
   "metadata": {
    "collapsed": false
   },
   "id": "af3aefc8dcccc504"
  },
  {
   "cell_type": "code",
   "outputs": [],
   "source": [
    "def list_range(low, high):\n",
    "    if low > high:\n",
    "        return None\n",
    "    lst = None\n",
    "    for i in reversed(range(low, high + 1)):\n",
    "        lst = pair(i, lst)\n",
    "    return lst"
   ],
   "metadata": {
    "collapsed": false,
    "ExecuteTime": {
     "end_time": "2024-05-24T20:06:02.556049Z",
     "start_time": "2024-05-24T20:06:02.551789Z"
    }
   },
   "id": "a1c2bd9955774f5d",
   "execution_count": 29
  },
  {
   "cell_type": "code",
   "outputs": [
    {
     "name": "stdout",
     "output_type": "stream",
     "text": [
      "Список: 1 -> 2 -> 3 -> 4 -> 5\n"
     ]
    }
   ],
   "source": [
    "lst = list_range(1, 5)\n",
    "print(\"Список:\", to_string(lst))"
   ],
   "metadata": {
    "collapsed": false,
    "ExecuteTime": {
     "end_time": "2024-05-24T20:06:29.123704Z",
     "start_time": "2024-05-24T20:06:29.120768Z"
    }
   },
   "id": "1a419ba4e1c51bf0",
   "execution_count": 31
  },
  {
   "cell_type": "markdown",
   "source": [
    "**2.5.** (уровень сложности: средний)\n",
    "\n",
    "Создайте функцию foldl(func, lst, acc), вычисляющую свертку элементов списка, аналогично reduce."
   ],
   "metadata": {
    "collapsed": false
   },
   "id": "becc90b8c18f8564"
  },
  {
   "cell_type": "code",
   "outputs": [],
   "source": [
    "def foldl(func, lst, acc):\n",
    "    if lst is None:\n",
    "        return acc\n",
    "    else:\n",
    "        return foldl(func, tail(lst), func(acc, head(lst)))"
   ],
   "metadata": {
    "collapsed": false,
    "ExecuteTime": {
     "end_time": "2024-05-24T20:07:48.201820Z",
     "start_time": "2024-05-24T20:07:48.198723Z"
    }
   },
   "id": "2d7d951be5381a53",
   "execution_count": 33
  },
  {
   "cell_type": "code",
   "outputs": [
    {
     "name": "stdout",
     "output_type": "stream",
     "text": [
      "Сумма элементов списка: 10\n"
     ]
    }
   ],
   "source": [
    "lst = pair(1, pair(2, pair(3, pair(4, None))))\n",
    "\n",
    "\n",
    "def add(x, y):\n",
    "    return x + y\n",
    "\n",
    "\n",
    "# применение foldl для суммирования элементов списка\n",
    "result = foldl(add, lst, 0)\n",
    "print(\"Сумма элементов списка:\", result)"
   ],
   "metadata": {
    "collapsed": false,
    "ExecuteTime": {
     "end_time": "2024-05-24T20:07:48.691185Z",
     "start_time": "2024-05-24T20:07:48.688873Z"
    }
   },
   "id": "25af4e2515b7bf8f",
   "execution_count": 34
  },
  {
   "cell_type": "markdown",
   "source": [
    "**2.6.** (уровень сложности: средний)\n",
    "\n",
    "Создайте функцию list_sum(lst) для вычисления суммы элементов списка с помощью foldl."
   ],
   "metadata": {
    "collapsed": false
   },
   "id": "4a884bc49c1512e"
  },
  {
   "cell_type": "code",
   "outputs": [
    {
     "name": "stdout",
     "output_type": "stream",
     "text": [
      "Сумма элементов списка: 10\n"
     ]
    }
   ],
   "source": [
    "def list_sum(lst):\n",
    "    return foldl(lambda acc, x: acc + x, lst, 0)\n",
    "\n",
    "\n",
    "lst = pair(1, pair(2, pair(3, pair(4, None))))\n",
    "\n",
    "# вычисление суммы элементов списка\n",
    "result = list_sum(lst)\n",
    "print(\"Сумма элементов списка:\", result)  # Вывод: 10"
   ],
   "metadata": {
    "collapsed": false,
    "ExecuteTime": {
     "end_time": "2024-05-24T20:08:43.129911Z",
     "start_time": "2024-05-24T20:08:43.125215Z"
    }
   },
   "id": "c2c13b82fb3dff09",
   "execution_count": 35
  },
  {
   "cell_type": "markdown",
   "source": [
    "**2.7.** (уровень сложности: средний)\n",
    "\n",
    "Создайте функцию fact(n) для вычисления факториала с помощью foldl и list_range."
   ],
   "metadata": {
    "collapsed": false
   },
   "id": "4c55bea84eae4773"
  },
  {
   "cell_type": "code",
   "outputs": [],
   "source": [
    "def fact(n):\n",
    "    if n < 0:\n",
    "        raise ValueError(\"Факториал определен только для неотрицательных чисел\")\n",
    "    lst = list_range(1, n)\n",
    "    return foldl(lambda acc, x: acc * x, lst, 1)"
   ],
   "metadata": {
    "collapsed": false,
    "ExecuteTime": {
     "end_time": "2024-05-24T20:09:34.944242Z",
     "start_time": "2024-05-24T20:09:34.940953Z"
    }
   },
   "id": "30d76d59700d04f",
   "execution_count": 36
  },
  {
   "cell_type": "code",
   "outputs": [
    {
     "name": "stdout",
     "output_type": "stream",
     "text": [
      "Факториал 5: 120\n",
      "Факториал 10: 3628800\n"
     ]
    }
   ],
   "source": [
    "result = fact(5)\n",
    "print(\"Факториал 5:\", result)\n",
    "\n",
    "print(\"Факториал 10:\", fact(10))"
   ],
   "metadata": {
    "collapsed": false,
    "ExecuteTime": {
     "end_time": "2024-05-24T20:10:04.043825Z",
     "start_time": "2024-05-24T20:10:04.035884Z"
    }
   },
   "id": "fb16c773f4340b38",
   "execution_count": 38
  },
  {
   "cell_type": "markdown",
   "source": [
    "**2.8.** (уровень сложности: средний)\n",
    "\n",
    "Создайте функцию list_to_py(lst) для преобразования списка в обычный список Питона с помощью foldl."
   ],
   "metadata": {
    "collapsed": false
   },
   "id": "3b1cd71c866fd390"
  },
  {
   "cell_type": "code",
   "outputs": [],
   "source": [
    "def list_to_py(lst):\n",
    "    return foldl(lambda acc, x: acc + [x], lst, [])"
   ],
   "metadata": {
    "collapsed": false,
    "ExecuteTime": {
     "end_time": "2024-05-24T20:11:59.716196Z",
     "start_time": "2024-05-24T20:11:59.713090Z"
    }
   },
   "id": "a9ea45d259dc9924",
   "execution_count": 40
  },
  {
   "cell_type": "code",
   "outputs": [
    {
     "name": "stdout",
     "output_type": "stream",
     "text": [
      "Обычный список Питона: [1, 2, 3, 4]\n",
      "type(py_list) = <class 'list'>\n",
      "py_list = [1, 2, 3, 4]\n",
      "type(lst) = <class 'function'>\n",
      "lst = <function cons.<locals>.<lambda> at 0x119fae840>\n"
     ]
    }
   ],
   "source": [
    "lst = pair(1, pair(2, pair(3, pair(4, None))))\n",
    "\n",
    "# преобразование списка в обычный список Питона\n",
    "py_list = list_to_py(lst)\n",
    "print(\n",
    "    f\"Обычный список Питона: {py_list}\\n{type(py_list) = }\\n{py_list = }\\n{type(lst) = }\\n{lst = }\"\n",
    ")"
   ],
   "metadata": {
    "collapsed": false,
    "ExecuteTime": {
     "end_time": "2024-05-24T20:12:12.655656Z",
     "start_time": "2024-05-24T20:12:12.651487Z"
    }
   },
   "id": "c4be7d84893ec142",
   "execution_count": 42
  },
  {
   "cell_type": "markdown",
   "source": [
    "**2.9.** (уровень сложности: средний)\n",
    "\n",
    "Создайте функцию list_reverse(lst) для разворота списка в обратном направлении с помощью foldl."
   ],
   "metadata": {
    "collapsed": false
   },
   "id": "21303f84ac185b93"
  },
  {
   "cell_type": "code",
   "outputs": [],
   "source": [
    "def list_reverse(lst):\n",
    "    return foldl(lambda acc, x: pair(x, acc), lst, None)"
   ],
   "metadata": {
    "collapsed": false,
    "ExecuteTime": {
     "end_time": "2024-05-24T20:12:59.892334Z",
     "start_time": "2024-05-24T20:12:59.881724Z"
    }
   },
   "id": "e8d194603657f318",
   "execution_count": 43
  },
  {
   "cell_type": "code",
   "outputs": [
    {
     "name": "stdout",
     "output_type": "stream",
     "text": [
      "Исходный список: 1 -> 2 -> 3 -> 4\n",
      "Развернутый список: 4 -> 3 -> 2 -> 1\n"
     ]
    }
   ],
   "source": [
    "reversed_lst = list_reverse(lst)\n",
    "print(\"Исходный список:\", to_string(lst))\n",
    "print(\"Развернутый список:\", to_string(reversed_lst))"
   ],
   "metadata": {
    "collapsed": false,
    "ExecuteTime": {
     "end_time": "2024-05-24T20:13:14.609875Z",
     "start_time": "2024-05-24T20:13:14.605219Z"
    }
   },
   "id": "fa2918d654032b70",
   "execution_count": 44
  },
  {
   "cell_type": "markdown",
   "source": [
    "**2.10.** (уровень сложности: средний)\n",
    "\n",
    "Создайте функцию foldr(func, lst, acc), вычисляющую свертку справа для элементов списка."
   ],
   "metadata": {
    "collapsed": false
   },
   "id": "9b6924fff55f0f6c"
  },
  {
   "cell_type": "code",
   "outputs": [],
   "source": [
    "def foldr(func, lst, acc):\n",
    "    if lst is None:\n",
    "        return acc\n",
    "    else:\n",
    "        return func(head(lst), foldr(func, tail(lst), acc))"
   ],
   "metadata": {
    "collapsed": false,
    "ExecuteTime": {
     "end_time": "2024-05-24T20:14:05.626889Z",
     "start_time": "2024-05-24T20:14:05.622043Z"
    }
   },
   "id": "ad47a7575449eac6",
   "execution_count": 45
  },
  {
   "cell_type": "code",
   "outputs": [
    {
     "name": "stdout",
     "output_type": "stream",
     "text": [
      "Сумма элементов списка (foldr): 10\n"
     ]
    }
   ],
   "source": [
    "result = foldr(add, lst, 0)\n",
    "print(\"Сумма элементов списка (foldr):\", result)"
   ],
   "metadata": {
    "collapsed": false,
    "ExecuteTime": {
     "end_time": "2024-05-24T20:14:24.354306Z",
     "start_time": "2024-05-24T20:14:24.349830Z"
    }
   },
   "id": "243eede10a4e0e3b",
   "execution_count": 46
  },
  {
   "cell_type": "markdown",
   "source": [
    "**2.11.** (уровень сложности: средний)\n",
    "\n",
    "Создайте функцию list_map(func, lst), аналог map, с помощью foldr."
   ],
   "metadata": {
    "collapsed": false
   },
   "id": "13c42c5a147bda0f"
  },
  {
   "cell_type": "code",
   "outputs": [],
   "source": [
    "def list_map(func, lst):\n",
    "    return foldr(lambda x, acc: pair(func(x), acc), lst, None)"
   ],
   "metadata": {
    "collapsed": false,
    "ExecuteTime": {
     "end_time": "2024-05-24T20:15:08.074610Z",
     "start_time": "2024-05-24T20:15:08.070027Z"
    }
   },
   "id": "19c2d2f8e41a543f",
   "execution_count": 47
  },
  {
   "cell_type": "code",
   "outputs": [
    {
     "name": "stdout",
     "output_type": "stream",
     "text": [
      "Исходный список: 1 -> 2 -> 3 -> 4\n",
      "Преобразованный список: 2 -> 4 -> 6 -> 8\n"
     ]
    }
   ],
   "source": [
    "mapped_lst = list_map(lambda x: x * 2, lst)\n",
    "\n",
    "print(\"Исходный список:\", to_string(lst))\n",
    "print(\"Преобразованный список:\", to_string(mapped_lst))"
   ],
   "metadata": {
    "collapsed": false,
    "ExecuteTime": {
     "end_time": "2024-05-24T20:15:55.172924Z",
     "start_time": "2024-05-24T20:15:55.168106Z"
    }
   },
   "id": "5c189866a129fa73",
   "execution_count": 48
  },
  {
   "cell_type": "markdown",
   "source": [
    "**2.12.** (уровень сложности: средний)\n",
    "\n",
    "Создайте функцию list_filter(pred, lst), аналог filter, с помощью foldr."
   ],
   "metadata": {
    "collapsed": false
   },
   "id": "17968ae5a4e98616"
  },
  {
   "cell_type": "code",
   "outputs": [],
   "source": [
    "def list_filter(pred, lst):\n",
    "    return foldr(lambda x, acc: pair(x, acc) if pred(x) else acc, lst, None)"
   ],
   "metadata": {
    "collapsed": false,
    "ExecuteTime": {
     "end_time": "2024-05-24T20:17:57.758791Z",
     "start_time": "2024-05-24T20:17:57.754850Z"
    }
   },
   "id": "1f1c2540a3e76d51",
   "execution_count": 49
  },
  {
   "cell_type": "code",
   "outputs": [
    {
     "name": "stdout",
     "output_type": "stream",
     "text": [
      "Исходный список: 1 -> 2 -> 3 -> 4\n",
      "Отфильтрованный список (четные числа): 2 -> 4\n"
     ]
    }
   ],
   "source": [
    "lst = pair(1, pair(2, pair(3, pair(4, None))))\n",
    "filtered_lst = list_filter(lambda x: x % 2 == 0, lst)\n",
    "\n",
    "print(\"Исходный список:\", to_string(lst))\n",
    "print(\"Отфильтрованный список (четные числа):\", to_string(filtered_lst))"
   ],
   "metadata": {
    "collapsed": false,
    "ExecuteTime": {
     "end_time": "2024-05-24T20:18:57.133463Z",
     "start_time": "2024-05-24T20:18:57.128026Z"
    }
   },
   "id": "4bd64a208eaae480",
   "execution_count": 50
  },
  {
   "cell_type": "markdown",
   "source": [
    "**2.13.** (уровень сложности: средний)\n",
    "\n",
    "Создайте функцию sum_odd_squares для вычисления суммы квадратов нечетных чисел списка с помощью list_sum, list_map и list_filter."
   ],
   "metadata": {
    "collapsed": false
   },
   "id": "eef2cc325fd51faf"
  },
  {
   "cell_type": "code",
   "outputs": [],
   "source": [
    "def sum_odd_squares(lst):\n",
    "    odd_lst = list_filter(lambda x: x % 2 != 0, lst)  # Фильтрация нечетных чисел\n",
    "    squares_lst = list_map(lambda x: x * x, odd_lst)  # Вычисление квадратов\n",
    "    return list_sum(squares_lst)  # Суммирование квадратов"
   ],
   "metadata": {
    "collapsed": false,
    "ExecuteTime": {
     "end_time": "2024-05-24T20:20:54.986857Z",
     "start_time": "2024-05-24T20:20:54.981931Z"
    }
   },
   "id": "3a5b2b97bf41a0a4",
   "execution_count": 51
  },
  {
   "cell_type": "code",
   "outputs": [
    {
     "name": "stdout",
     "output_type": "stream",
     "text": [
      "Сумма квадратов нечетных чисел списка: 35\n"
     ]
    }
   ],
   "source": [
    "lst = pair(1, pair(2, pair(3, pair(4, pair(5, None)))))\n",
    "\n",
    "result = sum_odd_squares(lst)\n",
    "print(\"Сумма квадратов нечетных чисел списка:\", result)  # 35 (1^2 + 3^2 + 5^2)"
   ],
   "metadata": {
    "collapsed": false,
    "ExecuteTime": {
     "end_time": "2024-05-24T20:21:20.124243Z",
     "start_time": "2024-05-24T20:21:20.119350Z"
    }
   },
   "id": "64bca72ff69a05c9",
   "execution_count": 52
  },
  {
   "cell_type": "markdown",
   "source": [
    "**2.14.** (уровень сложности: средний)\n",
    "\n",
    "Создайте функцию list_concat(lst1, lst2) для соединения двух списков."
   ],
   "metadata": {
    "collapsed": false
   },
   "id": "74427387426e1f5c"
  },
  {
   "cell_type": "code",
   "outputs": [],
   "source": [
    "def list_concat(lst1, lst2):\n",
    "    return foldr(pair, lst1, lst2)"
   ],
   "metadata": {
    "collapsed": false,
    "ExecuteTime": {
     "end_time": "2024-05-24T20:21:51.976985Z",
     "start_time": "2024-05-24T20:21:51.973710Z"
    }
   },
   "id": "733e6991129898b3",
   "execution_count": 53
  },
  {
   "cell_type": "code",
   "outputs": [
    {
     "name": "stdout",
     "output_type": "stream",
     "text": [
      "Объединенный список: 1 -> 2 -> 3 -> 4 -> 5 -> 6\n"
     ]
    }
   ],
   "source": [
    "lst1 = pair(1, pair(2, pair(3, None)))\n",
    "lst2 = pair(4, pair(5, pair(6, None)))\n",
    "\n",
    "concatenated_lst = list_concat(lst1, lst2)\n",
    "print(\"Объединенный список:\", to_string(concatenated_lst))"
   ],
   "metadata": {
    "collapsed": false,
    "ExecuteTime": {
     "end_time": "2024-05-24T20:22:19.916567Z",
     "start_time": "2024-05-24T20:22:19.911693Z"
    }
   },
   "id": "8cae987a316003ac",
   "execution_count": 54
  },
  {
   "cell_type": "markdown",
   "source": [
    "**2.15.** (уровень сложности: средний)\n",
    "\n",
    "Создайте функцию list_replace(lst, index, value) для изменения элемента списка по индексу."
   ],
   "metadata": {
    "collapsed": false
   },
   "id": "c145c0a9278d35b4"
  },
  {
   "cell_type": "code",
   "outputs": [],
   "source": [
    "def list_replace(lst, index, value):\n",
    "    def replace_helper(lst, i):\n",
    "        if lst is None:\n",
    "            return None\n",
    "        elif i == 0:\n",
    "            return pair(value, tail(lst))\n",
    "        else:\n",
    "            return pair(head(lst), replace_helper(tail(lst), i - 1))\n",
    "\n",
    "    return replace_helper(lst, index)"
   ],
   "metadata": {
    "collapsed": false,
    "ExecuteTime": {
     "end_time": "2024-05-24T20:23:11.964858Z",
     "start_time": "2024-05-24T20:23:11.959900Z"
    }
   },
   "id": "60b655d7c14ed1dc",
   "execution_count": 55
  },
  {
   "cell_type": "code",
   "outputs": [
    {
     "name": "stdout",
     "output_type": "stream",
     "text": [
      "Исходный список: 1 -> 2 -> 3 -> 4\n",
      "Измененный список: 1 -> 2 -> 99 -> 4\n"
     ]
    }
   ],
   "source": [
    "lst = pair(1, pair(2, pair(3, pair(4, None))))\n",
    "\n",
    "replaced_lst = list_replace(lst, 2, 99)\n",
    "print(\"Исходный список:\", to_string(lst))\n",
    "print(\"Измененный список:\", to_string(replaced_lst))"
   ],
   "metadata": {
    "collapsed": false,
    "ExecuteTime": {
     "end_time": "2024-05-24T20:23:21.068496Z",
     "start_time": "2024-05-24T20:23:21.064355Z"
    }
   },
   "id": "9f5a85d08720655b",
   "execution_count": 56
  },
  {
   "cell_type": "markdown",
   "source": [
    "## 6. Нормальные алгоритмы Маркова"
   ],
   "metadata": {
    "collapsed": false
   },
   "id": "8ed39dac8a5ddc8b"
  },
  {
   "cell_type": "markdown",
   "source": [
    "**6.1.** (уровень сложности: средний)\n",
    "\n",
    "Реализуйте интерпретатор [нормальных алгоритмов Маркова (НАМ)](https://www.mathnet.ru/php/archive.phtml?wshow=paper&jrnid=tm&paperid=1178&option_lang=rus). Обойдитесь без поддержки завершающих правил (стрелка с точкой).\n",
    "\n",
    "Проверьте интерпретатор на алгоритме перевода из двоичной записи числа в унарное представление:\n",
    "\n",
    "```python\n",
    "rules = [\n",
    "    ('|0', '0||'),\n",
    "    ('1', '0|'),\n",
    "    ('0', '')\n",
    "]\n",
    "\n",
    "print(markov('101', rules))\n",
    "# |||||\n",
    "```"
   ],
   "metadata": {
    "collapsed": false
   },
   "id": "2355416b07b94f0b"
  },
  {
   "cell_type": "code",
   "outputs": [],
   "source": [
    "def markov(s, rules):\n",
    "    while True:\n",
    "        for rule in rules:\n",
    "            if rule[0] in s:\n",
    "                s = s.replace(rule[0], rule[1])\n",
    "                break\n",
    "        else:\n",
    "            break\n",
    "    return s"
   ],
   "metadata": {
    "collapsed": false,
    "ExecuteTime": {
     "end_time": "2024-05-24T20:29:28.858327Z",
     "start_time": "2024-05-24T20:29:28.853813Z"
    }
   },
   "id": "b7281d82c7835bf9",
   "execution_count": 61
  },
  {
   "cell_type": "code",
   "outputs": [
    {
     "name": "stdout",
     "output_type": "stream",
     "text": [
      "|||||\n"
     ]
    }
   ],
   "source": [
    "rules = [(\"|0\", \"0||\"), (\"1\", \"0|\"), (\"0\", \"\")]\n",
    "\n",
    "print(markov(\"101\", rules))"
   ],
   "metadata": {
    "collapsed": false,
    "ExecuteTime": {
     "end_time": "2024-05-24T20:29:30.613574Z",
     "start_time": "2024-05-24T20:29:30.608964Z"
    }
   },
   "id": "f632d6a8d106ca23",
   "execution_count": 62
  },
  {
   "cell_type": "markdown",
   "source": [
    "**6.2.** (уровень сложности: низкий)\n",
    "\n",
    "Релизуйте НАМ для проверки четности двоичного числа. Пример работы:\n",
    "\n",
    "```python\n",
    ">>> markov('parity(11)', rules)\n",
    "odd\n",
    ">>> markov('parity(1010010)', rules)\n",
    "even\n",
    "```"
   ],
   "metadata": {
    "collapsed": false
   },
   "id": "fd22cdc5dd22403e"
  },
  {
   "cell_type": "code",
   "outputs": [
    {
     "name": "stdout",
     "output_type": "stream",
     "text": [
      "odd\n",
      "even\n"
     ]
    }
   ],
   "source": [
    "rules = [\n",
    "    (\"parity(0)\", \"even\"),\n",
    "    (\"parity(1)\", \"odd\"),\n",
    "    (\"00\", \"0\"),\n",
    "    (\"01\", \"1\"),\n",
    "    (\"10\", \"0\"),\n",
    "    (\"11\", \"1\"),\n",
    "    (\"parity(\", \"\"),\n",
    "    (\")\", \"\"),\n",
    "]\n",
    "\n",
    "print(markov(\"parity(11)\", rules))  # odd\n",
    "print(markov(\"parity(1010010)\", rules))  # even"
   ],
   "metadata": {
    "collapsed": false,
    "ExecuteTime": {
     "end_time": "2024-05-24T20:35:28.899294Z",
     "start_time": "2024-05-24T20:35:28.894262Z"
    }
   },
   "id": "3bc93e21dc8c16cb",
   "execution_count": 64
  },
  {
   "cell_type": "markdown",
   "source": [
    "**6.3.** (уровень сложности: средний)\n",
    "\n",
    "Реализуйте НАМ для проверки арифметического выражения на корректный синтаксис. Пример работы:\n",
    "\n",
    "```python\n",
    ">>> markov(' -12* (1 + 4) - (123 /3) ', rules)\n",
    "E\n",
    ">>> markov(' -12* (1 + 4+) - (123 /3) ', rules)\n",
    "E*(E+)E\n",
    "```\n",
    "\n",
    "Если синтаксис корректен, возвращается `E`."
   ],
   "metadata": {
    "collapsed": false
   },
   "id": "4ec799c6d1bcf40"
  },
  {
   "cell_type": "code",
   "outputs": [
    {
     "name": "stdout",
     "output_type": "stream",
     "text": [
      "E\n",
      "E*(E+)E\n"
     ]
    }
   ],
   "source": [
    "rules = [\n",
    "    # Убираем все пробелы\n",
    "    (\" \", \"\"),\n",
    "    # Убираем унарные операторы перед выражениями\n",
    "    (\"-E\", \"E\"),\n",
    "    (\"+E\", \"E\"),\n",
    "    (\"*E\", \"E\"),\n",
    "    (\"/E\", \"E\"),\n",
    "    # Убираем бинарные операторы между выражениями\n",
    "    (\"E-E\", \"E\"),\n",
    "    (\"E+E\", \"E\"),\n",
    "    (\"E*E\", \"E\"),\n",
    "    (\"E/E\", \"E\"),\n",
    "    # Убираем выражения в скобках\n",
    "    (\"(E)\", \"E\"),\n",
    "    # Убираем EE\n",
    "    (\"EE\", \"E\"),\n",
    "    # Убираем числа\n",
    "    (\"E0\", \"E\"),\n",
    "    (\"E1\", \"E\"),\n",
    "    (\"E2\", \"E\"),\n",
    "    (\"E3\", \"E\"),\n",
    "    (\"E4\", \"E\"),\n",
    "    (\"E5\", \"E\"),\n",
    "    (\"E6\", \"E\"),\n",
    "    (\"E7\", \"E\"),\n",
    "    (\"E8\", \"E\"),\n",
    "    (\"E9\", \"E\"),\n",
    "    # Превращаем цифры в E\n",
    "    (\"0\", \"E\"),\n",
    "    (\"1\", \"E\"),\n",
    "    (\"2\", \"E\"),\n",
    "    (\"3\", \"E\"),\n",
    "    (\"4\", \"E\"),\n",
    "    (\"5\", \"E\"),\n",
    "    (\"6\", \"E\"),\n",
    "    (\"7\", \"E\"),\n",
    "    (\"8\", \"E\"),\n",
    "    (\"9\", \"E\"),\n",
    "]\n",
    "\n",
    "print(markov(\" -12* (1 + 4) - (123 /3) \", rules))\n",
    "print(markov(\" -12* (1 + 4+) - (123 /3) \", rules))"
   ],
   "metadata": {
    "collapsed": false,
    "ExecuteTime": {
     "end_time": "2024-05-24T20:43:22.754251Z",
     "start_time": "2024-05-24T20:43:22.748416Z"
    }
   },
   "id": "8b58ff584ab77c7d",
   "execution_count": 68
  },
  {
   "cell_type": "markdown",
   "source": [
    "**6.4.** (уровень сложности: хакер)\n",
    "\n",
    "Расширьте НАМ до уровня языка переписывания термов (деревьев выражений): добавьте поддержку структурных скобок, метапеременных (в духе тех, что используются в конструкции match/case Питона) и функций.\n"
   ],
   "metadata": {
    "collapsed": false
   },
   "id": "f734fe9d2c9ddfed"
  }
 ],
 "metadata": {
  "kernelspec": {
   "display_name": "Python 3",
   "language": "python",
   "name": "python3"
  },
  "language_info": {
   "codemirror_mode": {
    "name": "ipython",
    "version": 3
   },
   "file_extension": ".py",
   "mimetype": "text/x-python",
   "name": "python",
   "nbconvert_exporter": "python",
   "pygments_lexer": "ipython3",
   "version": "3.12.3"
  }
 },
 "nbformat": 4,
 "nbformat_minor": 5
}
