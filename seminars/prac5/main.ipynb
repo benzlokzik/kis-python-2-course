{
 "cells": [
  {
   "cell_type": "markdown",
   "metadata": {},
   "source": [
    "Задания [отсюда](https://github.com/true-grue/kispython/blob/6edbda75fa57901ab827a801d5c94f3c2b234017/pract5.ipynb)"
   ]
  },
  {
   "cell_type": "markdown",
   "metadata": {},
   "source": [
    "### Вводные задачи\n",
    "\n",
    "#### 1.1. Исправьте функцию distance. Добавьте документацию к функции в виде docstring-строки. Укажите примеры в формате doctest. Примеры должны охватывать граничные случаи. Протестируйте программу с помощью вызова модуля doctest. Перенесите примеры в отдельный файл и снова протестируйте программу.\n",
    "(уровень сложности: низкий)\n",
    "\n",
    "\n",
    "\n",
    "```python\n",
    "def distance(x1, y1, x2, y2):\n",
    "    return ((x2 + x1)**2 - (y2 + y1)**2) ** 0.25\n",
    "```\n"
   ]
  },
  {
   "cell_type": "code",
   "execution_count": 16,
   "metadata": {
    "ExecuteTime": {
     "end_time": "2024-04-13T15:29:55.034363Z",
     "start_time": "2024-04-13T15:29:55.019155Z"
    },
    "collapsed": false
   },
   "outputs": [],
   "source": [
    "import doctest\n",
    "import random"
   ]
  },
  {
   "cell_type": "code",
   "execution_count": 17,
   "metadata": {},
   "outputs": [],
   "source": [
    "def distance(x1, y1, x2, y2):\n",
    "    \"\"\"\n",
    "    Считает Евклидово расстояние между двумя точками.\n",
    "\n",
    "    Args:\n",
    "        x1 (float): x-координата первой точки.\n",
    "        y1 (float): y-координата первой точки.\n",
    "        x2 (float): x-координата второй точки.\n",
    "        y2 (float): y-координата второй точки.\n",
    "\n",
    "    Returns:\n",
    "        float: Евклидово расстояние между двумя точками.\n",
    "\n",
    "    Examples:\n",
    "    >>> distance(0, 0, 0, 0)\n",
    "    0.0\n",
    "    >>> distance(0, 0, 1, 0)\n",
    "    1.0\n",
    "    >>> distance(0, 0, 0, 1)\n",
    "    1.0\n",
    "    >>> distance(0, 0, 1, 1)\n",
    "    1.0\n",
    "    >>> distance(-1, -1, 1, 1)\n",
    "    2.8284271247461903\n",
    "    \"\"\"\n",
    "    return ((x2 - x1) ** 2 + (y2 - y1) ** 2) ** 0.5"
   ]
  },
  {
   "cell_type": "code",
   "execution_count": 18,
   "metadata": {
    "ExecuteTime": {
     "end_time": "2024-04-13T15:29:55.060379Z",
     "start_time": "2024-04-13T15:29:55.052740Z"
    }
   },
   "outputs": [
    {
     "name": "stdout",
     "output_type": "stream",
     "text": [
      "distance(0, 0, 0, 0) = 0.0,\n",
      "distance(0, 0, 1, 0) = 1.0,\n",
      "distance(0, 0, 0, 1) = 1.0,\n",
      "distance(0, 0, 1, 1) = 1.4142135623730951,\n",
      "distance(-1, -1, 1, 1) = 2.8284271247461903\n"
     ]
    }
   ],
   "source": [
    "print(\n",
    "    f\"\"\"{distance(0, 0, 0, 0) = },\n",
    "{distance(0, 0, 1, 0) = },\n",
    "{distance(0, 0, 0, 1) = },\n",
    "{distance(0, 0, 1, 1) = },\n",
    "{distance(-1, -1, 1, 1) = }\"\"\"\n",
    ")"
   ]
  },
  {
   "cell_type": "code",
   "execution_count": 19,
   "metadata": {
    "ExecuteTime": {
     "end_time": "2024-04-13T15:29:55.071900Z",
     "start_time": "2024-04-13T15:29:55.062237Z"
    },
    "collapsed": false
   },
   "outputs": [
    {
     "name": "stdout",
     "output_type": "stream",
     "text": [
      "Finding tests in NoName\n",
      "Trying:\n",
      "    distance(0, 0, 0, 0)\n",
      "Expecting:\n",
      "    0.0\n",
      "ok\n",
      "Trying:\n",
      "    distance(0, 0, 1, 0)\n",
      "Expecting:\n",
      "    1.0\n",
      "ok\n",
      "Trying:\n",
      "    distance(0, 0, 0, 1)\n",
      "Expecting:\n",
      "    1.0\n",
      "ok\n",
      "Trying:\n",
      "    distance(0, 0, 1, 1)\n",
      "Expecting:\n",
      "    1.0\n",
      "**********************************************************************\n",
      "File \"__main__\", line 21, in NoName\n",
      "Failed example:\n",
      "    distance(0, 0, 1, 1)\n",
      "Expected:\n",
      "    1.0\n",
      "Got:\n",
      "    1.4142135623730951\n",
      "Trying:\n",
      "    distance(-1, -1, 1, 1)\n",
      "Expecting:\n",
      "    2.8284271247461903\n",
      "ok\n"
     ]
    }
   ],
   "source": [
    "# doctest.testmod()\n",
    "\n",
    "doctest.run_docstring_examples(distance, globals(), verbose=True)"
   ]
  },
  {
   "cell_type": "markdown",
   "metadata": {
    "collapsed": false
   },
   "source": [
    "#### 1.2 Добавьте к функции сортировки тестирование на случайных данных. Исправьте ошибки в функции.\n",
    "\n",
    "Напишите к функции сортировки отдельную функцию-спецификацию в виде набора assert'ов. Спецификация должна исчерпывающим образом описывать задачу сортировки (без привлечения готовых функций сортировки), иными словами – для общего случая нельзя придумать такое искажение кода сортировки, которое будет принято спецификацией.\n",
    "\n",
    "(уровень сложности: средний)\n",
    "\n",
    "\n",
    "```python\n",
    "def bucketsort(arr, k):\n",
    "    counts = [0] * k\n",
    "    for x in arr:\n",
    "        counts[x] += 1\n",
    "\n",
    "    sorted_arr = []\n",
    "    for i in range(k):\n",
    "        sorted_arr.extend([i] * counts[i])\n",
    "\n",
    "    return sorted_arr\n",
    "```"
   ]
  },
  {
   "cell_type": "code",
   "execution_count": 20,
   "metadata": {
    "ExecuteTime": {
     "end_time": "2024-04-13T15:29:55.076029Z",
     "start_time": "2024-04-13T15:29:55.073051Z"
    },
    "collapsed": false
   },
   "outputs": [],
   "source": [
    "def bucketsort(arr, k):\n",
    "    if k <= 0:\n",
    "        raise ValueError(\"k должен быть больше 0\")\n",
    "    if any(x < 0 or x >= k for x in arr):\n",
    "        raise ValueError(\"Все элементы массива должны быть в диапазоне от 0 до k-1\")\n",
    "\n",
    "    counts = [0] * k\n",
    "    for x in arr:\n",
    "        counts[x] += 1\n",
    "\n",
    "    sorted_arr = []\n",
    "    for i in range(k):\n",
    "        sorted_arr.extend([i] * counts[i])\n",
    "\n",
    "    return sorted_arr"
   ]
  },
  {
   "cell_type": "code",
   "execution_count": 21,
   "metadata": {
    "ExecuteTime": {
     "end_time": "2024-04-13T15:29:55.086252Z",
     "start_time": "2024-04-13T15:29:55.076714Z"
    },
    "collapsed": false
   },
   "outputs": [
    {
     "name": "stdout",
     "output_type": "stream",
     "text": [
      "Test №1 passed\n",
      "Test №2 passed\n",
      "Test №3 passed\n",
      "Test №4 passed\n",
      "Test №5 passed\n",
      "Test №6 passed\n",
      "Test №7 passed\n",
      "Test №8 passed\n",
      "Test №9 passed\n",
      "Test №10 passed\n",
      "Test №11 passed\n",
      "Test №12 passed\n",
      "Test №13 passed\n",
      "Test №14 passed\n",
      "Test №15 passed\n",
      "Test №16 passed\n",
      "Test №17 passed\n",
      "Test №18 passed\n",
      "Test №19 passed\n",
      "Test №20 passed\n",
      "Test №21 passed\n",
      "Test №22 passed\n",
      "Test №23 passed\n",
      "Test №24 passed\n",
      "Test №25 passed\n",
      "Test №26 passed\n",
      "Test №27 passed\n",
      "Test №28 passed\n",
      "Test №29 passed\n",
      "Test №30 passed\n",
      "Test №31 passed\n",
      "Test №32 passed\n",
      "Test №33 passed\n",
      "Test №34 passed\n",
      "Test №35 passed\n",
      "Test №36 passed\n",
      "Test №37 passed\n",
      "Test №38 passed\n",
      "Test №39 passed\n",
      "Test №40 passed\n",
      "Test №41 passed\n",
      "Test №42 passed\n",
      "Test №43 passed\n",
      "Test №44 passed\n",
      "Test №45 passed\n",
      "Test №46 passed\n",
      "Test №47 passed\n",
      "Test №48 passed\n",
      "Test №49 passed\n",
      "Test №50 passed\n",
      "Test №51 passed\n",
      "Test №52 passed\n",
      "Test №53 passed\n",
      "Test №54 passed\n",
      "Test №55 passed\n",
      "Test №56 passed\n",
      "Test №57 passed\n",
      "Test №58 passed\n",
      "Test №59 passed\n",
      "Test №60 passed\n",
      "Test №61 passed\n",
      "Test №62 passed\n",
      "Test №63 passed\n",
      "Test №64 passed\n",
      "Test №65 passed\n",
      "Test №66 passed\n",
      "Test №67 passed\n",
      "Test №68 passed\n",
      "Test №69 passed\n",
      "Test №70 passed\n",
      "Test №71 passed\n",
      "Test №72 passed\n",
      "Test №73 passed\n",
      "Test №74 passed\n",
      "Test №75 passed\n",
      "Test №76 passed\n",
      "Test №77 passed\n",
      "Test №78 passed\n",
      "Test №79 passed\n",
      "Test №80 passed\n",
      "Test №81 passed\n",
      "Test №82 passed\n",
      "Test №83 passed\n",
      "Test №84 passed\n",
      "Test №85 passed\n",
      "Test №86 passed\n",
      "Test №87 passed\n",
      "Test №88 passed\n",
      "Test №89 passed\n",
      "Test №90 passed\n",
      "Test №91 passed\n",
      "Test №92 passed\n",
      "Test №93 passed\n",
      "Test №94 passed\n",
      "Test №95 passed\n",
      "Test №96 passed\n",
      "Test №97 passed\n",
      "Test №98 passed\n",
      "Test №99 passed\n",
      "Test №100 passed\n"
     ]
    }
   ],
   "source": [
    "def test_bucketsort():\n",
    "    for i in range(100):  # количество случайных тестов\n",
    "        arr = [\n",
    "            random.randint(0, 9) for _ in range(100)\n",
    "        ]  # случайный массив с элементами от 0 до 9\n",
    "        k = 10\n",
    "        sorted_arr = bucketsort(arr, k)\n",
    "\n",
    "        assert len(sorted_arr) == len(\n",
    "            arr\n",
    "        ), \"Sorted array must have the same length as the input array\"\n",
    "        assert all(\n",
    "            sorted_arr[i] <= sorted_arr[i + 1] for i in range(len(sorted_arr) - 1)\n",
    "        ), \"Array must be sorted in non-decreasing order\"\n",
    "        assert sorted(sorted_arr) == sorted(\n",
    "            arr\n",
    "        ), \"Sorted array must contain the same elements as the input array\"\n",
    "        assert all(\n",
    "            arr.count(x) == sorted_arr.count(x) for x in set(arr)\n",
    "        ), \"Frequency of elements must remain the same\"\n",
    "\n",
    "        print(f\"Test №{i+1} passed\")\n",
    "\n",
    "\n",
    "test_bucketsort()"
   ]
  },
  {
   "cell_type": "markdown",
   "metadata": {
    "collapsed": false
   },
   "source": [
    "#### 1.3. Реализуйте конструкцию raises с помощью менеджера контекста в духе таковой из pytest.\n",
    "\n",
    "Пример использования:\n",
    "\n",
    "```python\n",
    "with raises(MealyError) as e:\n",
    "    ...\n",
    "```"
   ]
  },
  {
   "cell_type": "code",
   "execution_count": 22,
   "metadata": {
    "ExecuteTime": {
     "end_time": "2024-04-13T15:29:55.090951Z",
     "start_time": "2024-04-13T15:29:55.088051Z"
    },
    "collapsed": false
   },
   "outputs": [],
   "source": [
    "from typing import Type\n",
    "\n",
    "\n",
    "class raises:\n",
    "    def __init__(self, expected_exception: Type[Exception]):\n",
    "        self.expected_exception = expected_exception\n",
    "        self.exception = None\n",
    "\n",
    "    def __enter__(self):\n",
    "        return self\n",
    "\n",
    "    def __exit__(self, exc_type, exc_value, traceback):\n",
    "        if exc_type is not None and issubclass(exc_type, self.expected_exception):\n",
    "            self.exception = exc_value\n",
    "            # Возвращаем True, чтобы не пробрасывать исключение дальше\n",
    "            return True\n",
    "        elif exc_type is not None:\n",
    "            # Если возникло иное исключение, не подавляем его\n",
    "            return False\n",
    "        else:\n",
    "            raise AssertionError(f\"{self.expected_exception.__name__} not raised\")\n",
    "\n",
    "\n",
    "class MealyError(Exception):\n",
    "    pass"
   ]
  },
  {
   "cell_type": "code",
   "execution_count": 23,
   "metadata": {
    "ExecuteTime": {
     "end_time": "2024-04-13T15:29:55.136962Z",
     "start_time": "2024-04-13T15:29:55.091867Z"
    },
    "collapsed": false
   },
   "outputs": [
    {
     "ename": "MealyError",
     "evalue": "Աղիքային սխալ",
     "output_type": "error",
     "traceback": [
      "\u001b[0;31m---------------------------------------------------------------------------\u001b[0m",
      "\u001b[0;31mMealyError\u001b[0m                                Traceback (most recent call last)",
      "Cell \u001b[0;32mIn[23], line 2\u001b[0m\n\u001b[1;32m      1\u001b[0m \u001b[38;5;28;01mwith\u001b[39;00m raises(\u001b[38;5;167;01mValueError\u001b[39;00m) \u001b[38;5;28;01mas\u001b[39;00m e:\n\u001b[0;32m----> 2\u001b[0m     \u001b[38;5;28;01mraise\u001b[39;00m MealyError(\u001b[38;5;124m\"\u001b[39m\u001b[38;5;124mԱղիքային սխալ\u001b[39m\u001b[38;5;124m\"\u001b[39m)\n",
      "\u001b[0;31mMealyError\u001b[0m: Աղիքային սխալ"
     ]
    }
   ],
   "source": [
    "with raises(ValueError) as e:\n",
    "    raise MealyError(\"Աղիքային սխալ\")"
   ]
  },
  {
   "cell_type": "markdown",
   "metadata": {
    "collapsed": false
   },
   "source": [
    "### 2. Библиотеки pytest и coverage\n",
    "\n",
    "#### 2.1. Научитесь работать с модулем pytest. Выберите одну из программ, содержащих ошибки. Создайте отдельный файл для тестирования, в который поместите тестирующие функции (не менее двух). Упростите код с помощью добавления fixture-функций. Добавьте параметризацию.\n",
    "\n",
    "\n",
    "Для решения возьмем код треугольника:\n",
    "\n",
    "```python\n",
    "def triangle_type(x1, y1, x2, y2, x3, y3):\n",
    "    a = distance(x1, y1, x2, y2)\n",
    "    b = distance(x2, y2, x3, y3)\n",
    "    c = distance(x3, y3, x1, y1)\n",
    "    if a == b == c:\n",
    "        return \"равнобедренный\"\n",
    "    elif a == b or a == c or b == c:\n",
    "        return \"равносторонний\"\n",
    "    elif a != b != c:\n",
    "        return \"разносторонний\"\n",
    "```\n",
    "\n",
    "и исправим.\n"
   ]
  },
  {
   "cell_type": "code",
   "execution_count": 26,
   "metadata": {
    "ExecuteTime": {
     "end_time": "2024-04-13T16:05:00.482703Z",
     "start_time": "2024-04-13T16:05:00.468660Z"
    },
    "collapsed": false
   },
   "outputs": [],
   "source": [
    "def triangle_type_correct(x1, y1, x2, y2, x3, y3):\n",
    "    a = distance(x1, y1, x2, y2)\n",
    "    b = distance(x2, y2, x3, y3)\n",
    "    c = distance(x3, y3, x1, y1)\n",
    "\n",
    "    if max((a, b, c)) >= sum((a, b, c)) - max((a, b, c)):\n",
    "        return \"не существует\"\n",
    "    if a == b == c:\n",
    "        return \"равносторонний\"\n",
    "    elif a == b or a == c or b == c:\n",
    "        return \"равнобедренный\"\n",
    "    else:\n",
    "        return \"разносторонний\"\n"
   ]
  },
  {
   "cell_type": "markdown",
   "metadata": {
    "collapsed": false
   },
   "source": [
    "Код для задачи [тут](./2_1/testing_code.py), а тесты — [тут](./2_1/test_2_1.py)\n",
    "\n",
    "Запустим `pytest`"
   ]
  },
  {
   "cell_type": "code",
   "execution_count": 3,
   "metadata": {
    "ExecuteTime": {
     "end_time": "2024-04-13T16:17:45.393915Z",
     "start_time": "2024-04-13T16:17:44.717774Z"
    }
   },
   "outputs": [
    {
     "name": "stdout",
     "output_type": "stream",
     "text": [
      "\u001b[1m============================= test session starts ==============================\u001b[0m\n",
      "platform darwin -- Python 3.12.3, pytest-8.1.1, pluggy-1.4.0\n",
      "rootdir: /Users/abraamyan/Desktop/kis-python-2-course\n",
      "configfile: pyproject.toml\n",
      "plugins: anyio-4.3.0\n",
      "collected 8 items                                                              \u001b[0m\n",
      "\n",
      "2_1/test_2_1.py \u001b[31mF\u001b[0m\u001b[31mF\u001b[0m\u001b[31mF\u001b[0m\u001b[31mF\u001b[0m\u001b[31mF\u001b[0m\u001b[32m.\u001b[0m\u001b[31mF\u001b[0m\u001b[32m.\u001b[0m\u001b[31m                                                 [100%]\u001b[0m\n",
      "\n",
      "=================================== FAILURES ===================================\n",
      "\u001b[31m\u001b[1m__________________________ test_equilateral_triangle ___________________________\u001b[0m\n",
      "\n",
      "    \u001b[0m\u001b[94mdef\u001b[39;49;00m \u001b[92mtest_equilateral_triangle\u001b[39;49;00m():\u001b[90m\u001b[39;49;00m\n",
      ">       \u001b[94massert\u001b[39;49;00m triangle_type(\u001b[96mlist\u001b[39;49;00m(\u001b[96mmap\u001b[39;49;00m(\u001b[94mlambda\u001b[39;49;00m x: x**\u001b[94m2\u001b[39;49;00m, (\u001b[94m0\u001b[39;49;00m, \u001b[94m0\u001b[39;49;00m, \u001b[94m4\u001b[39;49;00m, \u001b[94m0\u001b[39;49;00m, \u001b[94m2\u001b[39;49;00m, \u001b[94m2\u001b[39;49;00m * (\u001b[94m3\u001b[39;49;00m ** \u001b[94m0.5\u001b[39;49;00m))))) == \u001b[33m\"\u001b[39;49;00m\u001b[33mравносторонний\u001b[39;49;00m\u001b[33m\"\u001b[39;49;00m\u001b[90m\u001b[39;49;00m\n",
      "\u001b[1m\u001b[31mE       TypeError: triangle_type() missing 5 required positional arguments: 'y1', 'x2', 'y2', 'x3', and 'y3'\u001b[0m\n",
      "\n",
      "\u001b[1m\u001b[31m2_1/test_2_1.py\u001b[0m:8: TypeError\n",
      "\u001b[31m\u001b[1m___________________________ test_isosceles_triangle ____________________________\u001b[0m\n",
      "\n",
      "    \u001b[0m\u001b[94mdef\u001b[39;49;00m \u001b[92mtest_isosceles_triangle\u001b[39;49;00m():\u001b[90m\u001b[39;49;00m\n",
      ">       \u001b[94massert\u001b[39;49;00m triangle_type(\u001b[94m0\u001b[39;49;00m, \u001b[94m0\u001b[39;49;00m, \u001b[94m2\u001b[39;49;00m, \u001b[94m0\u001b[39;49;00m, \u001b[94m1\u001b[39;49;00m, \u001b[94m2\u001b[39;49;00m) == \u001b[33m\"\u001b[39;49;00m\u001b[33mравнобедренный\u001b[39;49;00m\u001b[33m\"\u001b[39;49;00m\u001b[90m\u001b[39;49;00m\n",
      "\u001b[1m\u001b[31mE       AssertionError: assert 'равносторонний' == 'равнобедренный'\u001b[0m\n",
      "\u001b[1m\u001b[31mE         \u001b[0m\n",
      "\u001b[1m\u001b[31mE         - равнобедренный\u001b[0m\n",
      "\u001b[1m\u001b[31mE         + равносторонний\u001b[0m\n",
      "\n",
      "\u001b[1m\u001b[31m2_1/test_2_1.py\u001b[0m:12: AssertionError\n",
      "\u001b[31m\u001b[1m____________________________ test_scalene_triangle _____________________________\u001b[0m\n",
      "\n",
      "    \u001b[0m\u001b[94mdef\u001b[39;49;00m \u001b[92mtest_scalene_triangle\u001b[39;49;00m():\u001b[90m\u001b[39;49;00m\n",
      ">       \u001b[94massert\u001b[39;49;00m triangle_type(\u001b[94m0\u001b[39;49;00m, \u001b[94m0\u001b[39;49;00m, \u001b[94m2\u001b[39;49;00m, \u001b[94m0\u001b[39;49;00m, \u001b[94m2\u001b[39;49;00m, \u001b[94m2\u001b[39;49;00m) == \u001b[33m\"\u001b[39;49;00m\u001b[33mразносторонний\u001b[39;49;00m\u001b[33m\"\u001b[39;49;00m\u001b[90m\u001b[39;49;00m\n",
      "\u001b[1m\u001b[31mE       AssertionError: assert 'равносторонний' == 'разносторонний'\u001b[0m\n",
      "\u001b[1m\u001b[31mE         \u001b[0m\n",
      "\u001b[1m\u001b[31mE         - разносторонний\u001b[0m\n",
      "\u001b[1m\u001b[31mE         ?   ^\u001b[0m\n",
      "\u001b[1m\u001b[31mE         + равносторонний\u001b[0m\n",
      "\u001b[1m\u001b[31mE         ?   ^\u001b[0m\n",
      "\n",
      "\u001b[1m\u001b[31m2_1/test_2_1.py\u001b[0m:16: AssertionError\n",
      "\u001b[31m\u001b[1m____________________________ test_identical_points _____________________________\u001b[0m\n",
      "\n",
      "    \u001b[0m\u001b[94mdef\u001b[39;49;00m \u001b[92mtest_identical_points\u001b[39;49;00m():\u001b[90m\u001b[39;49;00m\n",
      ">       \u001b[94massert\u001b[39;49;00m triangle_type(\u001b[94m0\u001b[39;49;00m, \u001b[94m0\u001b[39;49;00m, \u001b[94m0\u001b[39;49;00m, \u001b[94m0\u001b[39;49;00m, \u001b[94m0\u001b[39;49;00m, \u001b[94m0\u001b[39;49;00m) == \u001b[33m\"\u001b[39;49;00m\u001b[33mне существует\u001b[39;49;00m\u001b[33m\"\u001b[39;49;00m\u001b[90m\u001b[39;49;00m\n",
      "\u001b[1m\u001b[31mE       AssertionError: assert 'равнобедренный' == 'не существует'\u001b[0m\n",
      "\u001b[1m\u001b[31mE         \u001b[0m\n",
      "\u001b[1m\u001b[31mE         - не существует\u001b[0m\n",
      "\u001b[1m\u001b[31mE         + равнобедренный\u001b[0m\n",
      "\n",
      "\u001b[1m\u001b[31m2_1/test_2_1.py\u001b[0m:20: AssertionError\n",
      "\u001b[31m\u001b[1m______________________ test_equilateral_triangle_correct _______________________\u001b[0m\n",
      "\n",
      "    \u001b[0m\u001b[94mdef\u001b[39;49;00m \u001b[92mtest_equilateral_triangle_correct\u001b[39;49;00m():\u001b[90m\u001b[39;49;00m\n",
      ">       \u001b[94massert\u001b[39;49;00m triangle_type_correct(\u001b[96mlist\u001b[39;49;00m(\u001b[96mmap\u001b[39;49;00m(\u001b[94mlambda\u001b[39;49;00m x: x**\u001b[94m2\u001b[39;49;00m, (\u001b[94m0\u001b[39;49;00m, \u001b[94m0\u001b[39;49;00m, \u001b[94m4\u001b[39;49;00m, \u001b[94m0\u001b[39;49;00m, \u001b[94m2\u001b[39;49;00m, \u001b[94m2\u001b[39;49;00m * (\u001b[94m3\u001b[39;49;00m ** \u001b[94m0.5\u001b[39;49;00m))))) == \u001b[33m\"\u001b[39;49;00m\u001b[33mравносторонний\u001b[39;49;00m\u001b[33m\"\u001b[39;49;00m\u001b[90m\u001b[39;49;00m\n",
      "\u001b[1m\u001b[31mE       TypeError: triangle_type_correct() missing 5 required positional arguments: 'y1', 'x2', 'y2', 'x3', and 'y3'\u001b[0m\n",
      "\n",
      "\u001b[1m\u001b[31m2_1/test_2_1.py\u001b[0m:27: TypeError\n",
      "\u001b[31m\u001b[1m________________________ test_scalene_triangle_correct _________________________\u001b[0m\n",
      "\n",
      "    \u001b[0m\u001b[94mdef\u001b[39;49;00m \u001b[92mtest_scalene_triangle_correct\u001b[39;49;00m():\u001b[90m\u001b[39;49;00m\n",
      ">       \u001b[94massert\u001b[39;49;00m triangle_type_correct(\u001b[94m0\u001b[39;49;00m, \u001b[94m0\u001b[39;49;00m, \u001b[94m2\u001b[39;49;00m, \u001b[94m0\u001b[39;49;00m, \u001b[94m2\u001b[39;49;00m, \u001b[94m2\u001b[39;49;00m) == \u001b[33m\"\u001b[39;49;00m\u001b[33mразносторонний\u001b[39;49;00m\u001b[33m\"\u001b[39;49;00m\u001b[90m\u001b[39;49;00m\n",
      "\u001b[1m\u001b[31mE       AssertionError: assert 'равнобедренный' == 'разносторонний'\u001b[0m\n",
      "\u001b[1m\u001b[31mE         \u001b[0m\n",
      "\u001b[1m\u001b[31mE         - разносторонний\u001b[0m\n",
      "\u001b[1m\u001b[31mE         + равнобедренный\u001b[0m\n",
      "\n",
      "\u001b[1m\u001b[31m2_1/test_2_1.py\u001b[0m:35: AssertionError\n",
      "\u001b[36m\u001b[1m=========================== short test summary info ============================\u001b[0m\n",
      "\u001b[31mFAILED\u001b[0m 2_1/test_2_1.py::\u001b[1mtest_equilateral_triangle\u001b[0m - TypeError: triangle_type() missing 5 required positional arguments: 'y1', '...\n",
      "\u001b[31mFAILED\u001b[0m 2_1/test_2_1.py::\u001b[1mtest_isosceles_triangle\u001b[0m - AssertionError: assert 'равносторонний' == 'равнобедренный'\n",
      "\u001b[31mFAILED\u001b[0m 2_1/test_2_1.py::\u001b[1mtest_scalene_triangle\u001b[0m - AssertionError: assert 'равносторонний' == 'разносторонний'\n",
      "\u001b[31mFAILED\u001b[0m 2_1/test_2_1.py::\u001b[1mtest_identical_points\u001b[0m - AssertionError: assert 'равнобедренный' == 'не существует'\n",
      "\u001b[31mFAILED\u001b[0m 2_1/test_2_1.py::\u001b[1mtest_equilateral_triangle_correct\u001b[0m - TypeError: triangle_type_correct() missing 5 required positional arguments:...\n",
      "\u001b[31mFAILED\u001b[0m 2_1/test_2_1.py::\u001b[1mtest_scalene_triangle_correct\u001b[0m - AssertionError: assert 'равнобедренный' == 'разносторонний'\n",
      "\u001b[31m========================= \u001b[31m\u001b[1m6 failed\u001b[0m, \u001b[32m2 passed\u001b[0m\u001b[31m in 0.12s\u001b[0m\u001b[31m ==========================\u001b[0m\n"
     ]
    }
   ],
   "source": [
    "!pytest ./2_1/test_2_1.py"
   ]
  },
  {
   "cell_type": "code",
   "execution_count": 31,
   "metadata": {
    "ExecuteTime": {
     "end_time": "2024-04-13T16:17:24.235575Z",
     "start_time": "2024-04-13T16:17:24.220410Z"
    },
    "collapsed": false
   },
   "outputs": [
    {
     "data": {
      "text/plain": [
       "(0, 0, 4, 0, 2, 3.4641016151377544)"
      ]
     },
     "execution_count": 31,
     "metadata": {},
     "output_type": "execute_result"
    }
   ],
   "source": [
    "0,0,4,0,2,2*(3**0.5)"
   ]
  },
  {
   "cell_type": "markdown",
   "metadata": {
    "collapsed": false
   },
   "source": [
    "#### 2.2. Выберите одну из программ, содержащих ошибки. Добавьте туда ввод со стороны пользователя. Добавьте макетный код для тестирования, с учетом такого ввода."
   ]
  },
  {
   "cell_type": "code",
   "execution_count": null,
   "metadata": {
    "collapsed": false
   },
   "outputs": [],
   "source": []
  }
 ],
 "metadata": {
  "kernelspec": {
   "display_name": "Python 3 (ipykernel)",
   "language": "python",
   "name": "python3"
  },
  "language_info": {
   "codemirror_mode": {
    "name": "ipython",
    "version": 3
   },
   "file_extension": ".py",
   "mimetype": "text/x-python",
   "name": "python",
   "nbconvert_exporter": "python",
   "pygments_lexer": "ipython3",
   "version": "3.12.3"
  }
 },
 "nbformat": 4,
 "nbformat_minor": 2
}
