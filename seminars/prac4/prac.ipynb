{
 "cells": [
  {
   "cell_type": "markdown",
   "id": "7286c64806258fee",
   "metadata": {
    "collapsed": false
   },
   "source": [
    "# 1. Некоторые операции с классами и объектами"
   ]
  },
  {
   "cell_type": "markdown",
   "id": "f57b85e08706ce8c",
   "metadata": {
    "collapsed": false
   },
   "source": [
    "###### 1.1 Напишите код, который выведет на экране все имена полей объекта произвольного пользовательского класса, кроме служебных имен."
   ]
  },
  {
   "cell_type": "code",
   "execution_count": 3,
   "id": "a537757f",
   "metadata": {},
   "outputs": [],
   "source": [
    "class str2(str): ..."
   ]
  },
  {
   "cell_type": "code",
   "execution_count": 4,
   "id": "6555d8c867e08e5a",
   "metadata": {
    "collapsed": false,
    "is_executing": true
   },
   "outputs": [
    {
     "name": "stdout",
     "output_type": "stream",
     "text": [
      "['capitalize', 'casefold', 'center', 'count', 'encode', 'endswith', 'expandtabs', 'find', 'format', 'format_map', 'index', 'isalnum', 'isalpha', 'isascii', 'isdecimal', 'isdigit', 'isidentifier', 'islower', 'isnumeric', 'isprintable', 'isspace', 'istitle', 'isupper', 'join', 'ljust', 'lower', 'lstrip', 'maketrans', 'partition', 'removeprefix', 'removesuffix', 'replace', 'rfind', 'rindex', 'rjust', 'rpartition', 'rsplit', 'rstrip', 'split', 'splitlines', 'startswith', 'strip', 'swapcase', 'title', 'translate', 'upper', 'zfill']\n"
     ]
    }
   ],
   "source": [
    "print([i for i in dir(str2) if not i.startswith(\"_\")])"
   ]
  },
  {
   "cell_type": "markdown",
   "id": "d3695d22",
   "metadata": {},
   "source": [
    "###### 1.2 Напишите код, который по имени метода, заданному строкой, вызовет этот метод в объекте некоторого пользовательского класса."
   ]
  },
  {
   "cell_type": "code",
   "execution_count": 5,
   "id": "9c5984de7ba060f5",
   "metadata": {
    "collapsed": false
   },
   "outputs": [
    {
     "name": "stdout",
     "output_type": "stream",
     "text": [
      "['method', 'call', 'test']\n"
     ]
    }
   ],
   "source": [
    "str2_val = str2(\"method call test\")\n",
    "str2_method = \"split\"\n",
    "\n",
    "print(getattr(str2_val, str2_method)())"
   ]
  },
  {
   "cell_type": "markdown",
   "id": "481e7fa5",
   "metadata": {},
   "source": [
    "###### 1.3 С кодом ниже что-то не так. Что именно неправильно и как это исправить?\n",
    "\n",
    "```python\n",
    "class A:\n",
    "    pass\n",
    "\n",
    "class B(A):\n",
    "    pass\n",
    "\n",
    "class C(A, B):\n",
    "    pass\n",
    "```"
   ]
  },
  {
   "cell_type": "code",
   "execution_count": 6,
   "id": "ea8133f4",
   "metadata": {},
   "outputs": [],
   "source": [
    "# класс С пытается отнаследоваться от B и A, но B уже отнаследовался от A\n",
    "\n",
    "\n",
    "class A:\n",
    "    pass\n",
    "\n",
    "\n",
    "class B(A):\n",
    "    pass\n",
    "\n",
    "\n",
    "class C(B):  # C теперь наследуется только от B\n",
    "    pass"
   ]
  },
  {
   "cell_type": "markdown",
   "id": "f7dc1581",
   "metadata": {},
   "source": [
    "###### 1.4 Напишите функцию-однострочник get_inheritance для вывода строки, отражающей иерархию наследования для входного класса."
   ]
  },
  {
   "cell_type": "code",
   "execution_count": 10,
   "id": "d9e6f73a",
   "metadata": {},
   "outputs": [
    {
     "name": "stdout",
     "output_type": "stream",
     "text": [
      "C --> B --> A --> object\n",
      "str2 --> str --> object\n",
      "OSError --> Exception --> BaseException --> object\n"
     ]
    }
   ],
   "source": [
    "def get_inheritance(cls):\n",
    "    return \" --> \".join([c.__name__ for c in cls.__mro__])\n",
    "\n",
    "\n",
    "print(get_inheritance(C))\n",
    "print(get_inheritance(str2))\n",
    "print(get_inheritance(OSError))"
   ]
  },
  {
   "cell_type": "markdown",
   "id": "28e8c506",
   "metadata": {},
   "source": [
    "# 2. Своя реализация структуры данных\n",
    "\n",
    "Реализуйте хэш-таблицу, аналог встроенного dict. Используйте для внутренней реализации список пар ключ-значение. Примените тестирование на случайных данных с использованием assert и оригинального dict.\n",
    "\n",
    "1. Реализуйте методы чтения, записи и получения размера хэш-таблицы.\n",
    "2. Реализуйте для методов своей хэш-таблицы тот же интерфейс, что и в dict, включая перегрузку операций.\n",
    "3. Реализуйте поддержку итератора для цикла for. Обязательно протестируйте код на примерах с вложенными циклами!"
   ]
  },
  {
   "cell_type": "code",
   "execution_count": 51,
   "id": "e570ad71",
   "metadata": {},
   "outputs": [],
   "source": [
    "class HashMap:\n",
    "    \"\"\"Simple hash map implementation with linear probing for collisions.\"\"\"\n",
    "\n",
    "    def __init__(self, capacity=100) -> None:\n",
    "        \"\"\"A hash map is initialized with a fixed capacity (default is 100).\"\"\"\n",
    "        self.capacity = capacity\n",
    "        self.size = 0\n",
    "        self.buckets = [[] for _ in range(capacity)]\n",
    "        self.iter_index = 0\n",
    "        self.iter_bucket_index = 0\n",
    "\n",
    "    def _hash(self, key) -> int:\n",
    "        \"\"\"Типа хэш-функция, которая просто возвращает остаток от деления на capacity.\"\"\"\n",
    "        return hash(key) % self.capacity\n",
    "\n",
    "    def _find_bucket_and_index(self, key) -> tuple:\n",
    "        \"\"\"Поиск бакета и индекса в бакете для ключа.\"\"\"\n",
    "        hash_key = self._hash(key)\n",
    "        bucket = self.buckets[hash_key]\n",
    "        for i, (k, _) in enumerate(bucket):\n",
    "            if k == key:\n",
    "                return bucket, i\n",
    "        return bucket, None\n",
    "\n",
    "    def __setitem__(self, key, value) -> None:\n",
    "        \"\"\"Установка значения по ключу. Если ключ уже существует, то его значение обновляется.\"\"\"\n",
    "        bucket, index = self._find_bucket_and_index(key)\n",
    "        if index is not None:\n",
    "            bucket[index] = (key, value)\n",
    "        else:\n",
    "            bucket.append((key, value))\n",
    "            self.size += 1\n",
    "\n",
    "    def __getitem__(self, key) -> any:\n",
    "        \"\"\"Получение значения по ключу. Если ключ не найден, то райзится исключение KeyError.\"\"\"\n",
    "        bucket, index = self._find_bucket_and_index(key)\n",
    "        if index is not None:\n",
    "            return bucket[index][1]\n",
    "        raise KeyError(\"Key not found: {}\".format(key))\n",
    "\n",
    "    def __delitem__(self, key) -> None:\n",
    "        \"\"\"Удаление значения по ключу. Если ключ не найден, то райзится исключение KeyError.\"\"\"\n",
    "        bucket, index = self._find_bucket_and_index(key)\n",
    "        if index is not None:\n",
    "            del bucket[index]\n",
    "            self.size -= 1\n",
    "        else:\n",
    "            raise KeyError(\"Key not found: {}\".format(key))\n",
    "\n",
    "    def __len__(self) -> int:\n",
    "        \"\"\"Возвращает количество элементов в хэш-таблице.\"\"\"\n",
    "        return self.size\n",
    "\n",
    "    def __iter__(self) -> \"HashMap\":\n",
    "        \"\"\"Итератор по ключам.\"\"\"\n",
    "        self.iter_index = 0\n",
    "        self.iter_bucket_index = 0\n",
    "        return self\n",
    "\n",
    "    def __next__(self) -> any:\n",
    "        \"\"\"Получение следующего ключа.\"\"\"\n",
    "        while self.iter_index < self.capacity:\n",
    "            if self.iter_bucket_index < len(self.buckets[self.iter_index]):\n",
    "                key = self.buckets[self.iter_index][self.iter_bucket_index][0]\n",
    "                self.iter_bucket_index += 1\n",
    "                return key\n",
    "            else:\n",
    "                self.iter_index += 1\n",
    "                self.iter_bucket_index = 0\n",
    "        raise StopIteration\n",
    "\n",
    "    def __repr__(self) -> str:\n",
    "        \"\"\"Представление хэш-таблицы в виде строки.\"\"\"\n",
    "        items = [f\"{repr(k)}: {repr(v)}\" for bucket in self.buckets for k, v in bucket]\n",
    "        return \"{\\n  \" + \",\\n  \".join(items) + \"\\n}\""
   ]
  },
  {
   "cell_type": "code",
   "execution_count": 52,
   "id": "dd1ca45d",
   "metadata": {},
   "outputs": [],
   "source": [
    "hm = HashMap()"
   ]
  },
  {
   "cell_type": "code",
   "execution_count": 53,
   "id": "15edfed5",
   "metadata": {},
   "outputs": [],
   "source": [
    "hm[\"key1\"] = \"value1\"\n",
    "hm[\"key2\"] = \"value2\"\n",
    "hm[\"key3\"] = \"value3\""
   ]
  },
  {
   "cell_type": "code",
   "execution_count": 54,
   "id": "dade3d99",
   "metadata": {},
   "outputs": [
    {
     "name": "stdout",
     "output_type": "stream",
     "text": [
      "key2: value2\n",
      "key3: value3\n",
      "key1: value1\n"
     ]
    }
   ],
   "source": [
    "for key in hm:\n",
    "    print(f\"{key}: {hm[key]}\")"
   ]
  },
  {
   "cell_type": "code",
   "execution_count": 55,
   "id": "b17cb2a5",
   "metadata": {},
   "outputs": [
    {
     "name": "stdout",
     "output_type": "stream",
     "text": [
      "3\n"
     ]
    }
   ],
   "source": [
    "print(len(hm))"
   ]
  },
  {
   "cell_type": "code",
   "execution_count": 56,
   "id": "66fd12f8",
   "metadata": {},
   "outputs": [],
   "source": [
    "hm[\"key1\"] = \"new value1\""
   ]
  },
  {
   "cell_type": "code",
   "execution_count": 57,
   "id": "ea91f7aa",
   "metadata": {},
   "outputs": [
    {
     "data": {
      "text/plain": [
       "{\n",
       "  'key2': 'value2',\n",
       "  'key3': 'value3',\n",
       "  'key1': 'new value1'\n",
       "}"
      ]
     },
     "execution_count": 57,
     "metadata": {},
     "output_type": "execute_result"
    }
   ],
   "source": [
    "hm"
   ]
  },
  {
   "cell_type": "code",
   "execution_count": 58,
   "id": "fa0fab71",
   "metadata": {},
   "outputs": [],
   "source": [
    "del hm[\"key2\"]"
   ]
  },
  {
   "cell_type": "code",
   "execution_count": 59,
   "id": "df96727d",
   "metadata": {},
   "outputs": [
    {
     "data": {
      "text/plain": [
       "{\n",
       "  'key3': 'value3',\n",
       "  'key1': 'new value1'\n",
       "}"
      ]
     },
     "execution_count": 59,
     "metadata": {},
     "output_type": "execute_result"
    }
   ],
   "source": [
    "hm"
   ]
  },
  {
   "cell_type": "markdown",
   "id": "ad73a071",
   "metadata": {},
   "source": [
    "Сделаем теперь тесты через `assert`"
   ]
  },
  {
   "cell_type": "code",
   "execution_count": 60,
   "id": "9d645508",
   "metadata": {},
   "outputs": [],
   "source": [
    "import random\n",
    "import string\n",
    "\n",
    "\n",
    "def random_string(length=10) -> str:\n",
    "    \"\"\"Генерирует случайную строку заданной длины.\"\"\"\n",
    "    letters = string.ascii_lowercase\n",
    "    return \"\".join(random.choice(letters) for i in range(length))"
   ]
  },
  {
   "cell_type": "code",
   "execution_count": 62,
   "id": "2c78284c",
   "metadata": {},
   "outputs": [],
   "source": [
    "# простой набор рандомных данных\n",
    "keys = [random_string(5) for _ in range(50)]\n",
    "values = [random.randint(1, 100) for _ in range(50)]\n",
    "\n",
    "my_map = HashMap()\n",
    "reference_dict = dict()"
   ]
  },
  {
   "cell_type": "code",
   "execution_count": 63,
   "id": "31226b9b",
   "metadata": {},
   "outputs": [],
   "source": [
    "# Заполнение структур данными и проверка соответствия значений\n",
    "for key, value in zip(keys, values):\n",
    "    my_map[key] = value\n",
    "    reference_dict[key] = value\n",
    "    assert my_map[key] == reference_dict[key], \"Mismatched values on insertion\""
   ]
  },
  {
   "cell_type": "code",
   "execution_count": 64,
   "id": "cd01be7c",
   "metadata": {},
   "outputs": [],
   "source": [
    "# Проверка наличия ключей в структуре\n",
    "for key in keys:\n",
    "    assert key in my_map, f\"Key {key} not found in SimpleHashMap\"\n",
    "    assert my_map[key] == reference_dict[key], \"Mismatched values on retrieval\""
   ]
  },
  {
   "cell_type": "code",
   "execution_count": 65,
   "id": "cf33ef8d",
   "metadata": {},
   "outputs": [],
   "source": [
    "# Проверка удаления ключей\n",
    "for key in keys[:10]:  # Удаляем первые 10 элементов\n",
    "    del my_map[key]\n",
    "    del reference_dict[key]\n",
    "\n",
    "for key in keys[10:]:  # Проверяем оставшиеся ключи\n",
    "    assert my_map[key] == reference_dict[key], \"Mismatch after deletion\""
   ]
  },
  {
   "cell_type": "markdown",
   "id": "b04ffaab",
   "metadata": {},
   "source": [
    "Как видим, все тесты проходят. Задание выполнено успешно. Ставим 1000 баллов за задание."
   ]
  },
  {
   "cell_type": "markdown",
   "id": "bfbcb5b1",
   "metadata": {},
   "source": [
    "# 3. Деревья выражений\n",
    "\n",
    "Требуется реализовать операции для печати, вычисления арифметических выражений и компиляции выражений в код стековой машины."
   ]
  },
  {
   "cell_type": "markdown",
   "id": "b6f4f0c2",
   "metadata": {},
   "source": [
    "###### 3.1 Реализовать классы узлов дерева: `Num`, `Add` и `Mul`. Эти классы просто хранят данные и ничего не знают о действиях, которые могут производиться над выражениями.\n",
    "\n",
    "Пример, который будет использоваться далее:\n",
    "\n",
    "```python\n",
    "ast = Add(Num(7), Mul(Num(3), Num(2)))\n",
    "```"
   ]
  },
  {
   "cell_type": "code",
   "execution_count": 75,
   "id": "bbfadfc0",
   "metadata": {},
   "outputs": [],
   "source": [
    "class Num:\n",
    "    def __init__(self, value):\n",
    "        self.value = value\n",
    "\n",
    "\n",
    "class Add:\n",
    "    def __init__(self, left, right):\n",
    "        self.left = left\n",
    "        self.right = right\n",
    "\n",
    "\n",
    "class Mul:\n",
    "    def __init__(self, left, right):\n",
    "        self.left = left\n",
    "        self.right = right"
   ]
  },
  {
   "cell_type": "code",
   "execution_count": 76,
   "id": "5115c6fc",
   "metadata": {},
   "outputs": [],
   "source": [
    "ast = Add(Num(7), Mul(Num(3), Num(2)))"
   ]
  },
  {
   "cell_type": "markdown",
   "id": "6f22c425",
   "metadata": {},
   "source": [
    "###### 3.2. Реализовать класс-посетитель PrintVisitor для печати выражения. Обойтись без перегрузки repr и str, а также без операторов ветвления!\n",
    "\n",
    "Пример:\n",
    "```python\n",
    ">>> pv = PrintVisitor()\n",
    ">>> print(pv.visit(ast))\n",
    "(7 + (3 * 2))\n",
    "```"
   ]
  },
  {
   "cell_type": "code",
   "execution_count": 77,
   "id": "a1468113",
   "metadata": {},
   "outputs": [],
   "source": [
    "from typing import NoReturn\n",
    "\n",
    "\n",
    "class PrintVisitor:\n",
    "    \"\"\"Visitor для печати AST.\"\"\"\n",
    "\n",
    "    def visit(self, node) -> str:\n",
    "        # Динамически определяем метод на основе типа узла по названию и вызываем его\n",
    "        method_name = f\"visit_{type(node).__name__}\"\n",
    "        visitor = getattr(self, method_name, self.generic_visit)\n",
    "        return visitor(node)\n",
    "\n",
    "    def visit_Num(self, node) -> str:\n",
    "        return str(node.value)\n",
    "\n",
    "    def visit_Add(self, node) -> str:\n",
    "        return f\"({self.visit(node.left)} + {self.visit(node.right)})\"\n",
    "\n",
    "    def visit_Mul(self, node) -> str:\n",
    "        return f\"({self.visit(node.left)} * {self.visit(node.right)})\"\n",
    "\n",
    "    def generic_visit(self, node) -> NoReturn:\n",
    "        raise Exception(f\"No visit_{type(node).__name__} method\")"
   ]
  },
  {
   "cell_type": "code",
   "execution_count": 78,
   "id": "0c4cc344",
   "metadata": {},
   "outputs": [
    {
     "name": "stdout",
     "output_type": "stream",
     "text": [
      "(7 + (3 * 2))\n"
     ]
    }
   ],
   "source": [
    "pv = PrintVisitor()\n",
    "print(pv.visit(ast))"
   ]
  },
  {
   "cell_type": "markdown",
   "id": "8085f05b",
   "metadata": {},
   "source": [
    "###### 3.3. Реализовать класс-посетитель CalcVisitor для вычисления значения выражения. Обойтись без операторов ветвления!\n",
    "\n",
    "\n",
    "Пример:\n",
    "```python\n",
    ">>> cv = CalcVisitor()\n",
    ">>> print(cv.visit(ast))\n",
    "13\n",
    "```"
   ]
  },
  {
   "cell_type": "code",
   "execution_count": 79,
   "id": "bf77e370",
   "metadata": {},
   "outputs": [],
   "source": [
    "class CalcVisitor:\n",
    "    \"\"\"Вычисление значения арифметического выражения.\"\"\"\n",
    "\n",
    "    def visit(self, node) -> int:\n",
    "        # Аналогично, делегирование на соответствующий типу узла метод\n",
    "        method_name = \"visit_\" + type(node).__name__\n",
    "        method = getattr(self, method_name, self.generic_visit)\n",
    "        return method(node)\n",
    "\n",
    "    def visit_Num(self, node) -> int:\n",
    "        return node.value\n",
    "\n",
    "    def visit_Add(self, node) -> int:\n",
    "        return self.visit(node.left) + self.visit(node.right)\n",
    "\n",
    "    def visit_Mul(self, node) -> int:\n",
    "        return self.visit(node.left) * self.visit(node.right)\n",
    "\n",
    "    def generic_visit(self, node) -> NoReturn:\n",
    "        raise Exception(f\"No visit_{type(node).__name__} method\")"
   ]
  },
  {
   "cell_type": "code",
   "execution_count": 80,
   "id": "52844e7c",
   "metadata": {},
   "outputs": [
    {
     "name": "stdout",
     "output_type": "stream",
     "text": [
      "13\n"
     ]
    }
   ],
   "source": [
    "cv = CalcVisitor()\n",
    "print(cv.visit(ast))"
   ]
  },
  {
   "cell_type": "markdown",
   "id": "51873dfe",
   "metadata": {},
   "source": [
    "###### 3.4. Реализовать класс-посетитель StackVisitor для компиляции выражения в код стековой машины. Обойтись без операторов ветвления!\n",
    "\n",
    "Пример:\n",
    "```python\n",
    ">>> sv = StackVisitor()\n",
    ">>> print(sv.visit(ast))\n",
    "PUSH 7\n",
    "PUSH 3\n",
    "PUSH 2\n",
    "MUL\n",
    "ADD\n",
    "```"
   ]
  },
  {
   "cell_type": "code",
   "execution_count": 81,
   "id": "770a1fe9",
   "metadata": {},
   "outputs": [],
   "source": [
    "class StackVisitor:\n",
    "    def visit(self, node):\n",
    "        method_name = \"visit_\" + type(node).__name__\n",
    "        visitor = getattr(self, method_name, self.generic_visit)\n",
    "        return visitor(node)\n",
    "\n",
    "    def visit_Num(self, node) -> str:\n",
    "        return f\"PUSH {node.value}\"\n",
    "\n",
    "    def visit_Add(self, node) -> str:\n",
    "        return f\"{self.visit(node.left)}\\n{self.visit(node.right)}\\nADD\"\n",
    "\n",
    "    def visit_Mul(self, node) -> str:\n",
    "        return f\"{self.visit(node.left)}\\n{self.visit(node.right)}\\nMUL\"\n",
    "\n",
    "    def generic_visit(self, node) -> NoReturn:\n",
    "        raise Exception(f\"No visit_{type(node).__name__} method\")"
   ]
  },
  {
   "cell_type": "code",
   "execution_count": 82,
   "id": "12f16057",
   "metadata": {},
   "outputs": [
    {
     "name": "stdout",
     "output_type": "stream",
     "text": [
      "PUSH 7\n",
      "PUSH 3\n",
      "PUSH 2\n",
      "MUL\n",
      "ADD\n"
     ]
    }
   ],
   "source": [
    "sv = StackVisitor()\n",
    "print(sv.visit(ast))"
   ]
  },
  {
   "cell_type": "markdown",
   "id": "9cb2f079",
   "metadata": {},
   "source": [
    "# 4. Предметно-ориентированный язык HTML-тегов\n",
    "\n",
    "###### 4.1. (уровень сложности: средний)\n",
    "\n",
    "Реализовать язык HTML-тегов с помощью менеджера контекста.\n",
    "\n",
    "Реализовать классы для выполнения следующего примера:\n",
    "```python\n",
    "html = HTML()\n",
    "with html.body():\n",
    "    with html.div():\n",
    "        with html.div():\n",
    "            html.p('Первая строка.')\n",
    "            html.p('Вторая строка.')\n",
    "        with html.div():\n",
    "            html.p('Третья строка.')\n",
    "```\n",
    "\n",
    "С помощью `html.get_code()` выдается следующий результат:\n",
    "\n",
    "```html\n",
    "<body>\n",
    "<div>\n",
    "<div>\n",
    "<p>Первая строка.</p>\n",
    "<p>Вторая строка.</p>\n",
    "</div>\n",
    "<div>\n",
    "<p>Третья строка.</p>\n",
    "</div>\n",
    "</div>\n",
    "</body>\n",
    "```"
   ]
  },
  {
   "cell_type": "code",
   "execution_count": 83,
   "id": "4c94caf6",
   "metadata": {},
   "outputs": [],
   "source": [
    "from contextlib import contextmanager"
   ]
  },
  {
   "cell_type": "code",
   "execution_count": 100,
   "id": "63aea364",
   "metadata": {},
   "outputs": [],
   "source": [
    "class HTML:\n",
    "\n",
    "    def __init__(self):\n",
    "        self.intend = 0\n",
    "        self.elements = list()\n",
    "\n",
    "    @contextmanager\n",
    "    def body(self):\n",
    "        self.elements.append(f\"{self.intend*\" \"}<body>\")\n",
    "        self.intend += 2\n",
    "        yield\n",
    "        self.intend -= 2\n",
    "        self.elements.append(f\"{self.intend*\" \"}</body>\")\n",
    "\n",
    "    @contextmanager\n",
    "    def div(self):\n",
    "        self.elements.append(f\"{self.intend*\" \"}<div>\")\n",
    "        self.intend += 2\n",
    "        yield\n",
    "        self.intend -= 2\n",
    "        self.elements.append(f\"{self.intend*\" \"}</div>\")\n",
    "\n",
    "    def p(self, line):\n",
    "        self.elements.append(f\"{self.intend*\" \"}<p>{line}</p>\")\n",
    "\n",
    "    def get_code(self):\n",
    "        return \"\\n\".join(self.elements)"
   ]
  },
  {
   "cell_type": "code",
   "execution_count": 101,
   "id": "ad904fdc",
   "metadata": {},
   "outputs": [
    {
     "name": "stdout",
     "output_type": "stream",
     "text": [
      "<body>\n",
      "  <div>\n",
      "    <div>\n",
      "      <p>Первая строка.</p>\n",
      "      <p>Вторая строка.</p>\n",
      "    </div>\n",
      "    <div>\n",
      "      <p>Третья строка.</p>\n",
      "    </div>\n",
      "  </div>\n",
      "</body>\n"
     ]
    }
   ],
   "source": [
    "html = HTML()\n",
    "with html.body():\n",
    "    with html.div():\n",
    "        with html.div():\n",
    "            html.p(\"Первая строка.\")\n",
    "            html.p(\"Вторая строка.\")\n",
    "        with html.div():\n",
    "            html.p(\"Третья строка.\")\n",
    "\n",
    "print(html.get_code())"
   ]
  },
  {
   "cell_type": "markdown",
   "id": "31d9f0e2",
   "metadata": {},
   "source": [
    "# 5. Визуализация графов\n",
    "\n",
    "###### 5.1. (уровень сложности: средний)\n",
    "\n",
    "Реализовать прототип библиотеки для рисования в формате SVG.\n",
    "\n",
    "Для некоторых из следующих задач потребуется библиотека для работы с SVG-графикой. Достаточно поддержать только рисование линий и кругов с указанием цвета.\n",
    "\n",
    "Пример:\n",
    "\n",
    "```python\n",
    "svg = SVG()\n",
    "\n",
    "svg.line(10, 10, 60, 10, color='black')\n",
    "svg.line(60, 10, 60, 60, color='black')\n",
    "svg.line(60, 60, 10, 60, color='black')\n",
    "svg.line(10, 60, 10, 10, color='black')\n",
    "\n",
    "svg.circle(10, 10, r=5, color='red')\n",
    "svg.circle(60, 10, r=5, color='red')\n",
    "svg.circle(60, 60, r=5, color='red')\n",
    "svg.circle(10, 60, r=5, color='red')\n",
    "\n",
    "svg.save('pic.svg', 100, 100)\n",
    "```\n",
    "\n",
    "Файл `pic.svg` будет иметь следующий вид:\n",
    "\n",
    "```xml\n",
    "<svg version=\"1.1\" width=\"100.000000\" height=\"100.000000\" xmlns=\"http://www.w3.org/2000/svg\">\n",
    "<line x1=\"10.000000\" y1=\"10.000000\" x2=\"60.000000\" y2=\"10.000000\" stroke=\"black\" />\n",
    "<line x1=\"60.000000\" y1=\"10.000000\" x2=\"60.000000\" y2=\"60.000000\" stroke=\"black\" />\n",
    "<line x1=\"60.000000\" y1=\"60.000000\" x2=\"10.000000\" y2=\"60.000000\" stroke=\"black\" />\n",
    "<line x1=\"10.000000\" y1=\"60.000000\" x2=\"10.000000\" y2=\"10.000000\" stroke=\"black\" />\n",
    "<circle cx=\"10.000000\" cy=\"10.000000\" r=\"5.000000\" fill=\"red\" />\n",
    "<circle cx=\"60.000000\" cy=\"10.000000\" r=\"5.000000\" fill=\"red\" />\n",
    "<circle cx=\"60.000000\" cy=\"60.000000\" r=\"5.000000\" fill=\"red\" />\n",
    "<circle cx=\"10.000000\" cy=\"60.000000\" r=\"5.000000\" fill=\"red\" />\n",
    "</svg>\n",
    "```"
   ]
  },
  {
   "cell_type": "code",
   "execution_count": 104,
   "id": "b106d212",
   "metadata": {},
   "outputs": [],
   "source": [
    "class SVG:\n",
    "    def __init__(self):\n",
    "        self.elements = []\n",
    "\n",
    "    def line(self, x1: float, y1: float, x2: float, y2: float, color: str = \"black\"):\n",
    "        \"\"\"Добавление линии.\"\"\"\n",
    "        self.elements.append(\n",
    "            f'<line x1=\"{x1:.6f}\" y1=\"{y1:.6f}\" x2=\"{x2:.6f}\" y2=\"{y2:.6f}\" stroke=\"{color}\" />'\n",
    "        )\n",
    "\n",
    "    def circle(self, cx: float, cy: float, r: float, color: str = \"black\"):\n",
    "        \"\"\"Добавление круга.\"\"\"\n",
    "        self.elements.append(\n",
    "            f'<circle cx=\"{cx:.6f}\" cy=\"{cy:.6f}\" r=\"{r:.6f}\" fill=\"{color}\" />'\n",
    "        )\n",
    "\n",
    "    def save(self, filename: str, width: float, height: float):\n",
    "        \"\"\"Сохранение SVG-файла.\"\"\"\n",
    "        with open(filename, \"w\") as file:\n",
    "            file.write('<svg version=\"1.1\" ')\n",
    "            file.write(f'width=\"{width:.6f}\" height=\"{height:.6f}\" ')\n",
    "            file.write('xmlns=\"http://www.w3.org/2000/svg\">\\n')\n",
    "            for element in self.elements:\n",
    "                file.write(element + \"\\n\")\n",
    "            file.write(\"</svg>\")"
   ]
  },
  {
   "cell_type": "code",
   "execution_count": 105,
   "id": "00a2dd5b",
   "metadata": {},
   "outputs": [],
   "source": [
    "svg = SVG()\n",
    "\n",
    "svg.line(10, 10, 60, 10, color=\"black\")\n",
    "svg.line(60, 10, 60, 60, color=\"black\")\n",
    "svg.line(60, 60, 10, 60, color=\"black\")\n",
    "svg.line(10, 60, 10, 10, color=\"black\")\n",
    "\n",
    "svg.circle(10, 10, r=5, color=\"red\")\n",
    "svg.circle(60, 10, r=5, color=\"red\")\n",
    "svg.circle(60, 60, r=5, color=\"red\")\n",
    "svg.circle(10, 60, r=5, color=\"red\")\n",
    "\n",
    "svg.save(\"pic.svg\", 100, 100)"
   ]
  },
  {
   "cell_type": "markdown",
   "id": "6605f3fc",
   "metadata": {},
   "source": [
    "Посмотрим результат:\n",
    "\n",
    "![pic.svg](pic.svg)\n",
    "\n",
    "Как видим, все работает. Задание выполнено успешно. Ставим 1000 баллов за задание."
   ]
  },
  {
   "cell_type": "markdown",
   "id": "a0a9147b",
   "metadata": {},
   "source": [
    "###### 5.2. уровень сложности: средний\n",
    "\n",
    "Реализуйте простой алгоритм Д. Кнута для визуализации бинарных деревьев. Вся работа этого и последующих алгоритмов визуализации графов заключается в назначении координат (x, y) каждому узлу.\n",
    "\n",
    "Основная идея алгоритма состоит в том, чтобы нарисовать сначала левое поддерево, а затем, правее этого поддерева нарисовать текущий узел и, наконец, правее этого текущего узла нарисовать правое поддерево. Каждый следующий уровень в дереве увеличивает координату y.\n",
    "\n",
    "В наивной реализации текущая позиция по x задается глобальной переменной, избавьтесь от нее с помощью класса.\n",
    "\n",
    "Вспомогательный код для решения:\n",
    "\n",
    "```python\n",
    "scale_x = 25\n",
    "scale_y = 50\n",
    "\n",
    "class Tree:\n",
    "    def __init__(self, val, left=None, right=None):\n",
    "        self.val = val\n",
    "        self.left = left\n",
    "        self.right = right\n",
    "        self.x = 0\n",
    "        self.y = 0\n",
    "\n",
    "```\n",
    "\n",
    "Пример визуализации для следующего определения дерева:\n",
    "\n",
    "```python\n",
    "tree_2 = Tree(2, Tree(3, Tree(4), Tree(5)), Tree(6, Tree(7)))\n",
    "tree_8 = Tree(8, Tree(9, Tree(10), Tree(11, Tree(12), Tree(13))), Tree(14))\n",
    "tree = Tree(1, tree_2, tree_8)\n",
    "```\n",
    "\n",
    "![true-grue/kispython/knuth_tree](https://raw.githubusercontent.com/true-grue/kispython/33f75d6358336498fef8c6c7138bc72933ba499f/data/knuth_tree.png)"
   ]
  },
  {
   "cell_type": "code",
   "execution_count": 130,
   "id": "e50a516e",
   "metadata": {},
   "outputs": [],
   "source": [
    "class Tree:\n",
    "    def __init__(self, val, left=None, right=None):\n",
    "        self.val = val\n",
    "        self.left = left\n",
    "        self.right = right\n",
    "        self.x = 0\n",
    "        self.y = 0"
   ]
  },
  {
   "cell_type": "code",
   "execution_count": 131,
   "id": "edd39ef6",
   "metadata": {},
   "outputs": [],
   "source": [
    "from typing import Union\n",
    "\n",
    "TreeOrNone = Union[Tree, None]\n",
    "\n",
    "\n",
    "class TreeDrawer:\n",
    "    def __init__(self, scale_x: int = 25, scale_y: int = 50):\n",
    "        self.scale_x = scale_x\n",
    "        self.scale_y = scale_y\n",
    "        self.next_x = 0\n",
    "\n",
    "    def layout_tree(self, tree: TreeOrNone, depth=0):\n",
    "        \"\"\"Расположение узлов дерева\"\"\"\n",
    "        if tree is not None:\n",
    "            # отсчитываем координаты для левого поддерева\n",
    "            self.layout_tree(tree.left, depth + 1)\n",
    "            # устанавливаем координаты узла\n",
    "            tree.x = self.next_x\n",
    "            tree.y = depth\n",
    "            # инкрементим счетчик для следующего узла\n",
    "            self.next_x += 1\n",
    "            self.layout_tree(tree.right, depth + 1)\n",
    "\n",
    "    def visualize_tree(self, tree: TreeOrNone) -> SVG:\n",
    "        \"\"\"Визуализация дерева.\"\"\"\n",
    "        # располагаем узлы\n",
    "        self.layout_tree(tree)\n",
    "        # создаем SVG\n",
    "        svg = SVG()\n",
    "        self.draw_tree(svg, tree)\n",
    "        return svg\n",
    "\n",
    "    def draw_tree(self, svg, tree: TreeOrNone, parent_coords=None):\n",
    "        \"\"\"Рекурсивная функция для отрисовки дерева.\"\"\"\n",
    "        if tree is not None:\n",
    "            # считаем реальные координаты узла\n",
    "            x = tree.x * self.scale_x\n",
    "            y = tree.y * self.scale_y\n",
    "            # рисуем узел\n",
    "            svg.circle(x, y, r=5, color=\"black\")\n",
    "            # рисуем линию к родителю\n",
    "            if parent_coords is not None:\n",
    "                svg.line(parent_coords[0], parent_coords[1], x, y, color=\"black\")\n",
    "            # рекурсивно рисуем левое и правое поддерево\n",
    "            self.draw_tree(svg, tree.left, (x, y))\n",
    "            self.draw_tree(svg, tree.right, (x, y))"
   ]
  },
  {
   "cell_type": "code",
   "execution_count": 134,
   "id": "6245e1db",
   "metadata": {},
   "outputs": [],
   "source": [
    "tree_2 = Tree(2, Tree(3, Tree(4), Tree(5)), Tree(6, Tree(7)))\n",
    "tree_8 = Tree(8, Tree(9, Tree(10), Tree(11, Tree(12), Tree(13))), Tree(14))\n",
    "tree = Tree(1, tree_2, tree_8)\n",
    "\n",
    "visualizer = TreeDrawer()\n",
    "svg = visualizer.visualize_tree(tree)\n",
    "svg.save(\"tree_visualization.svg\", 300, 300)"
   ]
  },
  {
   "cell_type": "markdown",
   "id": "13c23a70",
   "metadata": {},
   "source": [
    "Результат:\n",
    "\n",
    "![tree_visualization.svg](tree_visualization.svg)\n",
    "\n",
    "Как видим, все работает. Задание выполнено успешно. Ставим 1000 баллов за задание.\n",
    "\n",
    "<details> Спойлер по поводу 8.2\n",
    "Ученый уровень постараюсь сделать и отправить вам в ближайшее время :) или показать на занятии\n",
    "</details>"
   ]
  },
  {
   "cell_type": "code",
   "execution_count": 135,
   "id": "02daa81a",
   "metadata": {},
   "outputs": [],
   "source": [
    "!tar -czf prac4_distant_Абраамян_АВ.tar.gz pic.svg tree_visualization.svg prac.ipynb"
   ]
  }
 ],
 "metadata": {
  "kernelspec": {
   "display_name": "Python 3",
   "language": "python",
   "name": "python3"
  },
  "language_info": {
   "codemirror_mode": {
    "name": "ipython",
    "version": 3
   },
   "file_extension": ".py",
   "mimetype": "text/x-python",
   "name": "python",
   "nbconvert_exporter": "python",
   "pygments_lexer": "ipython3",
   "version": "3.12.2"
  }
 },
 "nbformat": 4,
 "nbformat_minor": 5
}
