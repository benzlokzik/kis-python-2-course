{
 "cells": [
  {
   "cell_type": "markdown",
   "metadata": {},
   "source": [
    "# Colloquium 1"
   ]
  },
  {
   "cell_type": "code",
   "execution_count": 3,
   "metadata": {},
   "outputs": [
    {
     "data": {
      "text/plain": [
       "1020"
      ]
     },
     "execution_count": 3,
     "metadata": {},
     "output_type": "execute_result"
    }
   ],
   "source": [
    "y = 1\n",
    "x = 3\n",
    "\n",
    "((x & 5 if y < 4 else y - 1) + (y << 10) - 3) - (y << 1)"
   ]
  },
  {
   "cell_type": "code",
   "execution_count": 4,
   "metadata": {},
   "outputs": [
    {
     "data": {
      "text/plain": [
       "7"
      ]
     },
     "execution_count": 4,
     "metadata": {},
     "output_type": "execute_result"
    }
   ],
   "source": [
    "x = 4\n",
    "y = 1\n",
    "\n",
    "(((x >> 5) + (9 if y != 9 else 5)) - y) - (y % 10)"
   ]
  },
  {
   "cell_type": "code",
   "execution_count": 5,
   "metadata": {},
   "outputs": [
    {
     "data": {
      "text/plain": [
       "3"
      ]
     },
     "execution_count": 5,
     "metadata": {},
     "output_type": "execute_result"
    }
   ],
   "source": [
    "x = 4\n",
    "y = 4\n",
    "\n",
    "(\n",
    "    ((y >> 10 if x < 7 else y / 3) + (y >> 2 if x <= 6 else x)) - (5 if x != 7 else 10)\n",
    ") + (7 if x < 5 else 5)"
   ]
  },
  {
   "cell_type": "code",
   "execution_count": 6,
   "metadata": {},
   "outputs": [
    {
     "data": {
      "text/plain": [
       "9"
      ]
     },
     "execution_count": 6,
     "metadata": {},
     "output_type": "execute_result"
    }
   ],
   "source": [
    "x = 3\n",
    "y = 4\n",
    "\n",
    "(\n",
    "    ((y // 8 if y <= 6 else x << 7) + (x | 2 if y < 9 else 9)) + (x % 1 if y > 5 else y)\n",
    ") + 2"
   ]
  },
  {
   "cell_type": "code",
   "execution_count": 12,
   "metadata": {},
   "outputs": [],
   "source": [
    "import ast\n",
    "from ast import *"
   ]
  },
  {
   "cell_type": "code",
   "execution_count": 13,
   "metadata": {},
   "outputs": [
    {
     "name": "stdout",
     "output_type": "stream",
     "text": [
      "(1 if y >= 4 else y) - (4 if x != 3 else x & 4) \n",
      "RESULT: 1\n"
     ]
    }
   ],
   "source": [
    "x = 3\n",
    "y = 4\n",
    "\n",
    "code = Module(\n",
    "    body=[\n",
    "        Expr(\n",
    "            value=BinOp(\n",
    "                left=IfExp(\n",
    "                    test=Compare(\n",
    "                        left=Name(id=\"y\", ctx=Load()),\n",
    "                        ops=[GtE()],\n",
    "                        comparators=[Constant(value=4)],\n",
    "                    ),\n",
    "                    body=Constant(value=1),\n",
    "                    orelse=Name(id=\"y\", ctx=Load()),\n",
    "                ),\n",
    "                op=Sub(),\n",
    "                right=IfExp(\n",
    "                    test=Compare(\n",
    "                        left=Name(id=\"x\", ctx=Load()),\n",
    "                        ops=[NotEq()],\n",
    "                        comparators=[Constant(value=3)],\n",
    "                    ),\n",
    "                    body=Constant(value=4),\n",
    "                    orelse=BinOp(\n",
    "                        left=Name(id=\"x\", ctx=Load()),\n",
    "                        op=BitAnd(),\n",
    "                        right=Constant(value=4),\n",
    "                    ),\n",
    "                ),\n",
    "            )\n",
    "        )\n",
    "    ],\n",
    "    type_ignores=[],\n",
    ")\n",
    "\n",
    "\n",
    "print(ast.unparse(code), \"\\nRESULT:\", eval(ast.unparse(code)))"
   ]
  },
  {
   "cell_type": "code",
   "execution_count": 10,
   "metadata": {},
   "outputs": [
    {
     "name": "stdout",
     "output_type": "stream",
     "text": [
      "(3 if x <= 4 else y & 5) - (3 if x > 5 else 2) \n",
      "RESULT: 1\n"
     ]
    }
   ],
   "source": [
    "x = 4\n",
    "y = 5\n",
    "\n",
    "code = Module(\n",
    "    body=[\n",
    "        Expr(\n",
    "            value=BinOp(\n",
    "                left=IfExp(\n",
    "                    test=Compare(\n",
    "                        left=Name(id=\"x\", ctx=Load()),\n",
    "                        ops=[LtE()],\n",
    "                        comparators=[Constant(value=4)],\n",
    "                    ),\n",
    "                    body=Constant(value=3),\n",
    "                    orelse=BinOp(\n",
    "                        left=Name(id=\"y\", ctx=Load()),\n",
    "                        op=BitAnd(),\n",
    "                        right=Constant(value=5),\n",
    "                    ),\n",
    "                ),\n",
    "                op=Sub(),\n",
    "                right=IfExp(\n",
    "                    test=Compare(\n",
    "                        left=Name(id=\"x\", ctx=Load()),\n",
    "                        ops=[Gt()],\n",
    "                        comparators=[Constant(value=5)],\n",
    "                    ),\n",
    "                    body=Constant(value=3),\n",
    "                    orelse=Constant(value=2),\n",
    "                ),\n",
    "            )\n",
    "        )\n",
    "    ],\n",
    "    type_ignores=[],\n",
    ")\n",
    "\n",
    "print(ast.unparse(code), \"\\nRESULT:\", eval(ast.unparse(code)))"
   ]
  },
  {
   "cell_type": "code",
   "execution_count": 14,
   "metadata": {},
   "outputs": [],
   "source": [
    "def ast_run(x, y, code: AST):\n",
    "    print(ast.unparse(code), \"\\nRESULT:\", eval(ast.unparse(code)))"
   ]
  },
  {
   "cell_type": "code",
   "execution_count": 16,
   "metadata": {},
   "outputs": [
    {
     "name": "stdout",
     "output_type": "stream",
     "text": [
      "(x >> 4 if x > 4 else x | 4) + (y if x >= 3 else y) \n",
      "RESULT: 7\n"
     ]
    }
   ],
   "source": [
    "code = Module(\n",
    "    body=[\n",
    "        Expr(\n",
    "            value=BinOp(\n",
    "                left=IfExp(\n",
    "                    test=Compare(\n",
    "                        left=Name(id=\"x\", ctx=Load()),\n",
    "                        ops=[Gt()],\n",
    "                        comparators=[Constant(value=4)],\n",
    "                    ),\n",
    "                    body=BinOp(\n",
    "                        left=Name(id=\"x\", ctx=Load()),\n",
    "                        op=RShift(),\n",
    "                        right=Constant(value=4),\n",
    "                    ),\n",
    "                    orelse=BinOp(\n",
    "                        left=Name(id=\"x\", ctx=Load()),\n",
    "                        op=BitOr(),\n",
    "                        right=Constant(value=4),\n",
    "                    ),\n",
    "                ),\n",
    "                op=Add(),\n",
    "                right=IfExp(\n",
    "                    test=Compare(\n",
    "                        left=Name(id=\"x\", ctx=Load()),\n",
    "                        ops=[GtE()],\n",
    "                        comparators=[Constant(value=3)],\n",
    "                    ),\n",
    "                    body=Name(id=\"y\", ctx=Load()),\n",
    "                    orelse=Name(id=\"y\", ctx=Load()),\n",
    "                ),\n",
    "            )\n",
    "        )\n",
    "    ],\n",
    "    type_ignores=[],\n",
    ")\n",
    "\n",
    "ast_run(4, 3, code)"
   ]
  },
  {
   "cell_type": "code",
   "execution_count": 17,
   "metadata": {},
   "outputs": [
    {
     "name": "stdout",
     "output_type": "stream",
     "text": [
      "(x * 2 if y >= 5 else y << 2) + (x * 2 if x < 1 else y) \n",
      "RESULT: 5\n"
     ]
    }
   ],
   "source": [
    "code = Module(\n",
    "    body=[\n",
    "        Expr(\n",
    "            value=BinOp(\n",
    "                left=IfExp(\n",
    "                    test=Compare(\n",
    "                        left=Name(id=\"y\", ctx=Load()),\n",
    "                        ops=[GtE()],\n",
    "                        comparators=[Constant(value=5)],\n",
    "                    ),\n",
    "                    body=BinOp(\n",
    "                        left=Name(id=\"x\", ctx=Load()),\n",
    "                        op=Mult(),\n",
    "                        right=Constant(value=2),\n",
    "                    ),\n",
    "                    orelse=BinOp(\n",
    "                        left=Name(id=\"y\", ctx=Load()),\n",
    "                        op=LShift(),\n",
    "                        right=Constant(value=2),\n",
    "                    ),\n",
    "                ),\n",
    "                op=Add(),\n",
    "                right=IfExp(\n",
    "                    test=Compare(\n",
    "                        left=Name(id=\"x\", ctx=Load()),\n",
    "                        ops=[Lt()],\n",
    "                        comparators=[Constant(value=1)],\n",
    "                    ),\n",
    "                    body=BinOp(\n",
    "                        left=Name(id=\"x\", ctx=Load()),\n",
    "                        op=Mult(),\n",
    "                        right=Constant(value=2),\n",
    "                    ),\n",
    "                    orelse=Name(id=\"y\", ctx=Load()),\n",
    "                ),\n",
    "            )\n",
    "        )\n",
    "    ],\n",
    "    type_ignores=[],\n",
    ")\n",
    "\n",
    "ast_run(3, 1, code)"
   ]
  },
  {
   "cell_type": "markdown",
   "metadata": {},
   "source": [
    "Определите результат выполнения кода стековой машины CPython при x = 5, y = 1. Ответом является целое число.\n",
    "\n",
    "```\n",
    "  0           0 RESUME                   0\n",
    "\n",
    "  1           2 LOAD_NAME                0 (y)\n",
    "              4 LOAD_NAME                1 (x)\n",
    "              6 LOAD_CONST               0 (4)\n",
    "              8 BINARY_OP                2 (//)\n",
    "             12 BINARY_OP               10 (-)\n",
    "             16 LOAD_NAME                0 (y)\n",
    "             18 BINARY_OP                0 (+)\n",
    "             22 RETURN_VALUE\n",
    "```"
   ]
  },
  {
   "cell_type": "code",
   "execution_count": 30,
   "metadata": {},
   "outputs": [
    {
     "name": "stdout",
     "output_type": "stream",
     "text": [
      "  3           0 RESUME                   0\n",
      "              2 LOAD_FAST                1 (y)\n",
      "              4 LOAD_FAST                0 (x)\n",
      "              6 LOAD_CONST               1 (4)\n",
      "              8 BINARY_OP                2 (//)\n",
      "             12 BINARY_OP               10 (-)\n",
      "             16 LOAD_FAST                1 (y)\n",
      "             18 BINARY_OP                0 (+)\n",
      "             22 RETURN_VALUE\n"
     ]
    }
   ],
   "source": [
    "from dis import dis\n",
    "\n",
    "dis(lambda x, y: y - x // 4 + y)"
   ]
  },
  {
   "cell_type": "code",
   "execution_count": 25,
   "metadata": {},
   "outputs": [
    {
     "data": {
      "text/plain": [
       "1"
      ]
     },
     "execution_count": 25,
     "metadata": {},
     "output_type": "execute_result"
    }
   ],
   "source": [
    "x = 5\n",
    "y = 1\n",
    "\n",
    "y - x // 4 + y"
   ]
  },
  {
   "cell_type": "markdown",
   "metadata": {},
   "source": [
    "Определите результат выполнения кода стековой машины CPython при x = 2, y = 5. Ответом является целое число.\n",
    "```\n",
    "  0           0 RESUME                   0\n",
    "\n",
    "  1           2 LOAD_NAME                0 (x)\n",
    "              4 LOAD_CONST               0 (2)\n",
    "              6 BINARY_OP               10 (-)\n",
    "             10 LOAD_CONST               1 (4)\n",
    "             12 BINARY_OP                0 (+)\n",
    "             16 LOAD_NAME                1 (y)\n",
    "             18 LOAD_CONST               0 (2)\n",
    "             20 BINARY_OP                9 (>>)\n",
    "             24 BINARY_OP               10 (-)\n",
    "             28 RETURN_VALUE\n",
    "```"
   ]
  },
  {
   "cell_type": "code",
   "execution_count": 32,
   "metadata": {},
   "outputs": [
    {
     "name": "stdout",
     "output_type": "stream",
     "text": [
      "  1           0 RESUME                   0\n",
      "              2 LOAD_FAST                0 (x)\n",
      "              4 LOAD_CONST               1 (2)\n",
      "              6 BINARY_OP               10 (-)\n",
      "             10 LOAD_CONST               2 (4)\n",
      "             12 BINARY_OP                0 (+)\n",
      "             16 LOAD_FAST                1 (y)\n",
      "             18 LOAD_CONST               1 (2)\n",
      "             20 BINARY_OP                9 (>>)\n",
      "             24 BINARY_OP               10 (-)\n",
      "             28 RETURN_VALUE\n"
     ]
    }
   ],
   "source": [
    "dis(lambda x, y: x - 2 + 4 - (y >> 2))"
   ]
  },
  {
   "cell_type": "code",
   "execution_count": 33,
   "metadata": {},
   "outputs": [
    {
     "data": {
      "text/plain": [
       "3"
      ]
     },
     "execution_count": 33,
     "metadata": {},
     "output_type": "execute_result"
    }
   ],
   "source": [
    "x = 2\n",
    "y = 5\n",
    "\n",
    "x - 2 + 4 - (y >> 2)"
   ]
  },
  {
   "cell_type": "markdown",
   "metadata": {},
   "source": [
    "Определите результат выполнения кода стековой машины CPython при x = 2, y = 5. Ответом является целое число.\n",
    "\n",
    "```\n",
    "  0           0 RESUME                   0\n",
    "\n",
    "  1           2 LOAD_NAME                0 (x)\n",
    "              4 LOAD_CONST               0 (3)\n",
    "              6 BINARY_OP                5 (*)\n",
    "             10 LOAD_CONST               1 (1)\n",
    "             12 BINARY_OP               10 (-)\n",
    "             16 LOAD_NAME                1 (y)\n",
    "             18 LOAD_CONST               2 (4)\n",
    "             20 BINARY_OP                7 (|)\n",
    "             24 BINARY_OP                0 (+)\n",
    "             28 RETURN_VALUE\n",
    "```"
   ]
  },
  {
   "cell_type": "code",
   "execution_count": 34,
   "metadata": {},
   "outputs": [
    {
     "name": "stdout",
     "output_type": "stream",
     "text": [
      "  1           0 RESUME                   0\n",
      "              2 LOAD_FAST                0 (x)\n",
      "              4 LOAD_CONST               1 (3)\n",
      "              6 BINARY_OP                5 (*)\n",
      "             10 LOAD_CONST               2 (1)\n",
      "             12 BINARY_OP               10 (-)\n",
      "             16 LOAD_FAST                1 (y)\n",
      "             18 LOAD_CONST               3 (4)\n",
      "             20 BINARY_OP                7 (|)\n",
      "             24 BINARY_OP                0 (+)\n",
      "             28 RETURN_VALUE\n"
     ]
    }
   ],
   "source": [
    "dis(lambda x, y: x * 3 - 1 + (y | 4))"
   ]
  },
  {
   "cell_type": "code",
   "execution_count": 35,
   "metadata": {},
   "outputs": [
    {
     "data": {
      "text/plain": [
       "10"
      ]
     },
     "execution_count": 35,
     "metadata": {},
     "output_type": "execute_result"
    }
   ],
   "source": [
    "x = 2\n",
    "y = 5\n",
    "\n",
    "x * 3 - 1 + (y | 4)"
   ]
  }
 ],
 "metadata": {
  "kernelspec": {
   "display_name": "kis-python-2-course-Ksl733U3-py3.12",
   "language": "python",
   "name": "python3"
  },
  "language_info": {
   "codemirror_mode": {
    "name": "ipython",
    "version": 3
   },
   "file_extension": ".py",
   "mimetype": "text/x-python",
   "name": "python",
   "nbconvert_exporter": "python",
   "pygments_lexer": "ipython3",
   "version": "3.12.2"
  }
 },
 "nbformat": 4,
 "nbformat_minor": 2
}
